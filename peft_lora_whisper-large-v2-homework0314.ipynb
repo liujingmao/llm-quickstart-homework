{
 "cells": [
  {
   "cell_type": "markdown",
   "id": "c219841f-493c-40f9-a6c9-3700f0c525d0",
   "metadata": {},
   "source": [
    "# PEFT 库 LoRA 实战 - OpenAI Whisper-large-v2\n",
    "\n",
    "本教程使用 LoRA 在`OpenAI Whisper-large-v2`模型上实现`语音识别(ASR)`任务的微调训练。\n",
    "\n",
    "同时，我们还结合了`int8` 量化进一步降低训练过程资源开销，同时保证了精度几乎不受影响。\n",
    "\n",
    "![LoRA](https://huggingface.co/datasets/huggingface/documentation-images/resolve/main/peft/lora_diagram.png)\n",
    "\n",
    "本教程主要训练流程如下：\n",
    "- 全局参数设置\n",
    "- 数据准备\n",
    "    - 下载数据集：训练、验证和评估集\n",
    "    - 预处理数据：降采样、移除不必要字段等\n",
    "    - 数据抽样（演示需要）\n",
    "    - 应用数据集处理（`Dataset.map`）\n",
    "    - 自定义语音数据处理器\n",
    "- 模型准备\n",
    "    - 加载和处理 `int8` 精度 Whisper-Large-v2 模型\n",
    "    - LoRA Adapter 参数配置\n",
    "    - 实例化 PEFT Model：`peft_model = get_peft_model(model, config)`\n",
    "- 模型训练\n",
    "    - 训练参数配置 Seq2SeqTrainingArguments\n",
    "    - 实例化训练器 Seq2SeqTrainer\n",
    "    - 训练模型\n",
    "    - 保存模型\n",
    "- 模型推理\n",
    "    - 使用 `PeftModel` 加载 LoRA 微调后 Whisper 模型\n",
    "    - 使用 `Pipeline API` 部署微调后 Whisper 实现中文语音识别任务"
   ]
  },
  {
   "cell_type": "markdown",
   "id": "6d0a1e23-ea71-45d6-82d6-453077cf2d29",
   "metadata": {},
   "source": [
    "## 全局参数设置"
   ]
  },
  {
   "cell_type": "code",
   "execution_count": 1,
   "id": "ccd00402-d821-485e-8703-fb16bcb56a9e",
   "metadata": {
    "execution": {
     "iopub.execute_input": "2024-03-13T14:31:56.891957Z",
     "iopub.status.busy": "2024-03-13T14:31:56.891289Z",
     "iopub.status.idle": "2024-03-13T14:31:56.914935Z",
     "shell.execute_reply": "2024-03-13T14:31:56.913001Z",
     "shell.execute_reply.started": "2024-03-13T14:31:56.891889Z"
    },
    "tags": []
   },
   "outputs": [],
   "source": [
    "model_name_or_path = \"openai/whisper-large-v2\"\n",
    "model_dir = \"models/whisper-large-v2-asr-int8\"\n",
    "\n",
    "language = \"Chinese (China)\"\n",
    "language_abbr = \"zh-CN\"\n",
    "task = \"transcribe\"\n",
    "dataset_name = \"mozilla-foundation/common_voice_11_0\"\n",
    "\n",
    "batch_size=32"
   ]
  },
  {
   "cell_type": "markdown",
   "id": "cfffa1df-e51e-4026-9817-1cebddf0061a",
   "metadata": {},
   "source": [
    "## 数据准备\n",
    "\n",
    "### 下载数据集 Common Voice\n",
    "\n",
    "Common Voice 11.0 数据集包含许多不同语言的录音，总时长达数小时。\n",
    "\n",
    "本教程以中文数据为例，展示如何使用 LoRA 在 Whisper-large-v2 上进行微调训练。\n",
    "\n",
    "首先，初始化一个DatasetDict结构，并将训练集（将训练+验证拆分为训练集）和测试集拆分好，按照中文数据集构建配置加载到内存中："
   ]
  },
  {
   "cell_type": "code",
   "execution_count": 2,
   "id": "21ff42f4-f3ec-46d3-b0c0-dd9ffbf7b50b",
   "metadata": {
    "execution": {
     "iopub.execute_input": "2024-03-13T14:32:14.542630Z",
     "iopub.status.busy": "2024-03-13T14:32:14.541982Z",
     "iopub.status.idle": "2024-03-13T15:31:26.335104Z",
     "shell.execute_reply": "2024-03-13T15:31:26.334251Z",
     "shell.execute_reply.started": "2024-03-13T14:32:14.542563Z"
    },
    "tags": []
   },
   "outputs": [
    {
     "data": {
      "application/vnd.jupyter.widget-view+json": {
       "model_id": "262b132d7c714e88bfa7a19e6eb9d3dc",
       "version_major": 2,
       "version_minor": 0
      },
      "text/plain": [
       "Downloading data:   0%|          | 0.00/7.25M [00:00<?, ?B/s]"
      ]
     },
     "metadata": {},
     "output_type": "display_data"
    },
    {
     "data": {
      "application/vnd.jupyter.widget-view+json": {
       "model_id": "bef0276d30034e5e81a278452a63bace",
       "version_major": 2,
       "version_minor": 0
      },
      "text/plain": [
       "Downloading data:   0%|          | 0.00/2.53M [00:00<?, ?B/s]"
      ]
     },
     "metadata": {},
     "output_type": "display_data"
    },
    {
     "data": {
      "application/vnd.jupyter.widget-view+json": {
       "model_id": "1b6c63f84ab84211be8326c8b4dcd52b",
       "version_major": 2,
       "version_minor": 0
      },
      "text/plain": [
       "Downloading data:   0%|          | 0.00/2.43M [00:00<?, ?B/s]"
      ]
     },
     "metadata": {},
     "output_type": "display_data"
    },
    {
     "data": {
      "application/vnd.jupyter.widget-view+json": {
       "model_id": "8eca2a01de014d42a6a8c48c10ad97f6",
       "version_major": 2,
       "version_minor": 0
      },
      "text/plain": [
       "Downloading data:   0%|          | 0.00/156M [00:00<?, ?B/s]"
      ]
     },
     "metadata": {},
     "output_type": "display_data"
    },
    {
     "data": {
      "application/vnd.jupyter.widget-view+json": {
       "model_id": "426ff19719a040f1ac254d0cace9f5e5",
       "version_major": 2,
       "version_minor": 0
      },
      "text/plain": [
       "Downloading data:   0%|          | 0.00/4.98M [00:00<?, ?B/s]"
      ]
     },
     "metadata": {},
     "output_type": "display_data"
    },
    {
     "data": {
      "application/vnd.jupyter.widget-view+json": {
       "model_id": "3cb1ad27f2544a8aa4a425b776c8aaac",
       "version_major": 2,
       "version_minor": 0
      },
      "text/plain": [
       "Generating train split: 0 examples [00:00, ? examples/s]"
      ]
     },
     "metadata": {},
     "output_type": "display_data"
    },
    {
     "name": "stderr",
     "output_type": "stream",
     "text": [
      "\n",
      "Reading metadata...: 0it [00:00, ?it/s]\u001b[A\n",
      "Reading metadata...: 11448it [00:00, 114474.92it/s]\u001b[A\n",
      "Reading metadata...: 29056it [00:00, 124637.65it/s]\u001b[A\n"
     ]
    },
    {
     "data": {
      "application/vnd.jupyter.widget-view+json": {
       "model_id": "e22d73d15c974746a5e4f0220f94f98d",
       "version_major": 2,
       "version_minor": 0
      },
      "text/plain": [
       "Generating validation split: 0 examples [00:00, ? examples/s]"
      ]
     },
     "metadata": {},
     "output_type": "display_data"
    },
    {
     "name": "stderr",
     "output_type": "stream",
     "text": [
      "\n",
      "Reading metadata...: 10581it [00:00, 215021.13it/s]\n"
     ]
    },
    {
     "data": {
      "application/vnd.jupyter.widget-view+json": {
       "model_id": "e7a70bb5ac2c4b6e9eb68afc3c5a0a23",
       "version_major": 2,
       "version_minor": 0
      },
      "text/plain": [
       "Generating test split: 0 examples [00:00, ? examples/s]"
      ]
     },
     "metadata": {},
     "output_type": "display_data"
    },
    {
     "name": "stderr",
     "output_type": "stream",
     "text": [
      "\n",
      "Reading metadata...: 10581it [00:00, 223079.74it/s]\n"
     ]
    },
    {
     "data": {
      "application/vnd.jupyter.widget-view+json": {
       "model_id": "904ddbd177d0405690eba72399e3ad82",
       "version_major": 2,
       "version_minor": 0
      },
      "text/plain": [
       "Generating other split: 0 examples [00:00, ? examples/s]"
      ]
     },
     "metadata": {},
     "output_type": "display_data"
    },
    {
     "name": "stderr",
     "output_type": "stream",
     "text": [
      "\n",
      "Reading metadata...: 0it [00:00, ?it/s]\u001b[A\n",
      "Reading metadata...: 21236it [00:00, 212347.04it/s]\u001b[A\n",
      "Reading metadata...: 42471it [00:00, 208182.90it/s]\u001b[A\n",
      "Reading metadata...: 63295it [00:00, 207876.33it/s]\u001b[A\n",
      "Reading metadata...: 84086it [00:00, 207849.60it/s]\u001b[A\n",
      "Reading metadata...: 104873it [00:00, 206833.70it/s]\u001b[A\n",
      "Reading metadata...: 125843it [00:00, 207780.21it/s]\u001b[A\n",
      "Reading metadata...: 146715it [00:00, 208081.95it/s]\u001b[A\n",
      "Reading metadata...: 167525it [00:00, 204189.51it/s]\u001b[A\n",
      "Reading metadata...: 187959it [00:00, 201211.33it/s]\u001b[A\n",
      "Reading metadata...: 208820it [00:01, 203444.19it/s]\u001b[A\n",
      "Reading metadata...: 229619it [00:01, 204813.48it/s]\u001b[A\n",
      "Reading metadata...: 250113it [00:01, 203752.73it/s]\u001b[A\n",
      "Reading metadata...: 270498it [00:01, 201328.02it/s]\u001b[A\n",
      "Reading metadata...: 290825it [00:01, 201899.14it/s]\u001b[A\n",
      "Reading metadata...: 311160it [00:01, 202330.04it/s]\u001b[A\n",
      "Reading metadata...: 331400it [00:01, 202153.52it/s]\u001b[A\n",
      "Reading metadata...: 351620it [00:01, 195783.10it/s]\u001b[A\n",
      "Reading metadata...: 372439it [00:01, 199410.49it/s]\u001b[A\n",
      "Reading metadata...: 393302it [00:01, 202125.05it/s]\u001b[A\n",
      "Reading metadata...: 413954it [00:02, 203424.20it/s]\u001b[A\n",
      "Reading metadata...: 434694it [00:02, 204605.12it/s]\u001b[A\n",
      "Reading metadata...: 455321it [00:02, 205100.41it/s]\u001b[A\n",
      "Reading metadata...: 475845it [00:02, 204925.88it/s]\u001b[A\n",
      "Reading metadata...: 496496it [00:02, 205395.73it/s]\u001b[A\n",
      "Reading metadata...: 517295it [00:02, 206170.10it/s]\u001b[A\n",
      "Reading metadata...: 537917it [00:02, 205304.35it/s]\u001b[A\n",
      "Reading metadata...: 558452it [00:02, 204071.64it/s]\u001b[A\n",
      "Reading metadata...: 578864it [00:02, 195179.74it/s]\u001b[A\n",
      "Reading metadata...: 599285it [00:02, 197788.88it/s]\u001b[A\n",
      "Reading metadata...: 619609it [00:03, 199380.43it/s]\u001b[A\n",
      "Reading metadata...: 640020it [00:03, 200770.77it/s]\u001b[A\n",
      "Reading metadata...: 660555it [00:03, 202115.66it/s]\u001b[A\n",
      "Reading metadata...: 698486it [00:03, 202995.32it/s]\u001b[A\n"
     ]
    },
    {
     "data": {
      "application/vnd.jupyter.widget-view+json": {
       "model_id": "04d12588fa4847229c864f76c793fb27",
       "version_major": 2,
       "version_minor": 0
      },
      "text/plain": [
       "Generating invalidated split: 0 examples [00:00, ? examples/s]"
      ]
     },
     "metadata": {},
     "output_type": "display_data"
    },
    {
     "name": "stderr",
     "output_type": "stream",
     "text": [
      "\n",
      "Reading metadata...: 0it [00:00, ?it/s]\u001b[A\n",
      "Reading metadata...: 21302it [00:00, 155553.11it/s]\u001b[A\n"
     ]
    },
    {
     "data": {
      "text/plain": [
       "{'client_id': '95368aab163e0387e4fd4991b4f2d8ccfbd4364bf656c860230501fd27dcedf087773e4695a6cf5de9c4f1d406d582283190d065cdfa36b0e2b060cffaca977e',\n",
       " 'path': '/output/huggingface/datasets/downloads/extracted/5b8961e060a17bf5e1ae0f1d3eae9fcccf012c6c1d59d98d714f3b52619c7d9c/zh-CN_train_0/common_voice_zh-CN_33211332.mp3',\n",
       " 'audio': {'path': '/output/huggingface/datasets/downloads/extracted/5b8961e060a17bf5e1ae0f1d3eae9fcccf012c6c1d59d98d714f3b52619c7d9c/zh-CN_train_0/common_voice_zh-CN_33211332.mp3',\n",
       "  'array': array([-6.82121026e-13, -2.27373675e-12, -2.27373675e-12, ...,\n",
       "          1.21667399e-05,  3.23003678e-06, -2.43066324e-07]),\n",
       "  'sampling_rate': 48000},\n",
       " 'sentence': '性喜温暖润湿气候且耐寒。',\n",
       " 'up_votes': 2,\n",
       " 'down_votes': 0,\n",
       " 'age': '',\n",
       " 'gender': '',\n",
       " 'accent': '',\n",
       " 'locale': 'zh-CN',\n",
       " 'segment': ''}"
      ]
     },
     "execution_count": 2,
     "metadata": {},
     "output_type": "execute_result"
    }
   ],
   "source": [
    "from datasets import load_dataset, DatasetDict\n",
    "\n",
    "common_voice = DatasetDict()\n",
    "\n",
    "common_voice[\"train\"] = load_dataset(dataset_name, language_abbr, split=\"train\", trust_remote_code=True)\n",
    "common_voice[\"validation\"] = load_dataset(dataset_name, language_abbr, split=\"validation\", trust_remote_code=True)\n",
    "\n",
    "common_voice[\"train\"][0]"
   ]
  },
  {
   "cell_type": "code",
   "execution_count": 3,
   "id": "9bed4735-d485-435f-b282-2806241e0e54",
   "metadata": {
    "execution": {
     "iopub.execute_input": "2024-03-13T15:31:26.336381Z",
     "iopub.status.busy": "2024-03-13T15:31:26.336114Z",
     "iopub.status.idle": "2024-03-13T15:31:26.341813Z",
     "shell.execute_reply": "2024-03-13T15:31:26.340921Z",
     "shell.execute_reply.started": "2024-03-13T15:31:26.336363Z"
    },
    "tags": []
   },
   "outputs": [
    {
     "data": {
      "text/plain": [
       "DatasetDict({\n",
       "    train: Dataset({\n",
       "        features: ['client_id', 'path', 'audio', 'sentence', 'up_votes', 'down_votes', 'age', 'gender', 'accent', 'locale', 'segment'],\n",
       "        num_rows: 29056\n",
       "    })\n",
       "    validation: Dataset({\n",
       "        features: ['client_id', 'path', 'audio', 'sentence', 'up_votes', 'down_votes', 'age', 'gender', 'accent', 'locale', 'segment'],\n",
       "        num_rows: 10581\n",
       "    })\n",
       "})"
      ]
     },
     "execution_count": 3,
     "metadata": {},
     "output_type": "execute_result"
    }
   ],
   "source": [
    "common_voice"
   ]
  },
  {
   "cell_type": "markdown",
   "id": "3c81faa4-d8fe-4cc7-afe6-4c2615b9050f",
   "metadata": {},
   "source": [
    "## 预处理训练数据集\n"
   ]
  },
  {
   "cell_type": "code",
   "execution_count": 4,
   "id": "5822025f-7f8e-4141-8bfe-d8822d0da20f",
   "metadata": {
    "execution": {
     "iopub.execute_input": "2024-03-13T15:31:58.278837Z",
     "iopub.status.busy": "2024-03-13T15:31:58.278162Z",
     "iopub.status.idle": "2024-03-13T15:32:11.716765Z",
     "shell.execute_reply": "2024-03-13T15:32:11.714994Z",
     "shell.execute_reply.started": "2024-03-13T15:31:58.278768Z"
    }
   },
   "outputs": [
    {
     "data": {
      "application/vnd.jupyter.widget-view+json": {
       "model_id": "a6b7c500f0c841b1aaf0774ec7d7d9c8",
       "version_major": 2,
       "version_minor": 0
      },
      "text/plain": [
       "preprocessor_config.json:   0%|          | 0.00/185k [00:00<?, ?B/s]"
      ]
     },
     "metadata": {},
     "output_type": "display_data"
    },
    {
     "data": {
      "application/vnd.jupyter.widget-view+json": {
       "model_id": "efd3f0c0d43540829b5f99108bf7cca5",
       "version_major": 2,
       "version_minor": 0
      },
      "text/plain": [
       "tokenizer_config.json:   0%|          | 0.00/283k [00:00<?, ?B/s]"
      ]
     },
     "metadata": {},
     "output_type": "display_data"
    },
    {
     "data": {
      "application/vnd.jupyter.widget-view+json": {
       "model_id": "deb32553027f4b399fb28c5d52346a5f",
       "version_major": 2,
       "version_minor": 0
      },
      "text/plain": [
       "vocab.json:   0%|          | 0.00/836k [00:00<?, ?B/s]"
      ]
     },
     "metadata": {},
     "output_type": "display_data"
    },
    {
     "data": {
      "application/vnd.jupyter.widget-view+json": {
       "model_id": "cb10a1073e5c44c39a66a3ed10364e9d",
       "version_major": 2,
       "version_minor": 0
      },
      "text/plain": [
       "tokenizer.json:   0%|          | 0.00/2.48M [00:00<?, ?B/s]"
      ]
     },
     "metadata": {},
     "output_type": "display_data"
    },
    {
     "data": {
      "application/vnd.jupyter.widget-view+json": {
       "model_id": "22109766a8d24a82a7eec6bbb9ade978",
       "version_major": 2,
       "version_minor": 0
      },
      "text/plain": [
       "merges.txt:   0%|          | 0.00/494k [00:00<?, ?B/s]"
      ]
     },
     "metadata": {},
     "output_type": "display_data"
    },
    {
     "data": {
      "application/vnd.jupyter.widget-view+json": {
       "model_id": "a335d50acb3b4f738192c82a92228b54",
       "version_major": 2,
       "version_minor": 0
      },
      "text/plain": [
       "normalizer.json:   0%|          | 0.00/52.7k [00:00<?, ?B/s]"
      ]
     },
     "metadata": {},
     "output_type": "display_data"
    },
    {
     "data": {
      "application/vnd.jupyter.widget-view+json": {
       "model_id": "b2255a4b2bd0416a851aa8049ef68c22",
       "version_major": 2,
       "version_minor": 0
      },
      "text/plain": [
       "added_tokens.json:   0%|          | 0.00/34.6k [00:00<?, ?B/s]"
      ]
     },
     "metadata": {},
     "output_type": "display_data"
    },
    {
     "data": {
      "application/vnd.jupyter.widget-view+json": {
       "model_id": "fdb2166124fc44af978d6e93178b6f2d",
       "version_major": 2,
       "version_minor": 0
      },
      "text/plain": [
       "special_tokens_map.json:   0%|          | 0.00/2.19k [00:00<?, ?B/s]"
      ]
     },
     "metadata": {},
     "output_type": "display_data"
    },
    {
     "name": "stderr",
     "output_type": "stream",
     "text": [
      "Special tokens have been added in the vocabulary, make sure the associated word embeddings are fine-tuned or trained.\n",
      "Special tokens have been added in the vocabulary, make sure the associated word embeddings are fine-tuned or trained.\n"
     ]
    }
   ],
   "source": [
    "from transformers import AutoFeatureExtractor, AutoTokenizer, AutoProcessor\n",
    "\n",
    "# 从预训练模型加载特征提取器\n",
    "feature_extractor = AutoFeatureExtractor.from_pretrained(model_name_or_path)\n",
    "\n",
    "# 从预训练模型加载分词器，可以指定语言和任务以获得最适合特定需求的分词器配置\n",
    "tokenizer = AutoTokenizer.from_pretrained(model_name_or_path, language=language, task=task)\n",
    "\n",
    "# 从预训练模型加载处理器，处理器通常结合了特征提取器和分词器，为特定任务提供一站式的数据预处理\n",
    "processor = AutoProcessor.from_pretrained(model_name_or_path, language=language, task=task)"
   ]
  },
  {
   "cell_type": "markdown",
   "id": "f394e5cd-23b8-413e-8bde-88c3542b84fa",
   "metadata": {},
   "source": [
    "#### 移除数据集中不必要的字段"
   ]
  },
  {
   "cell_type": "code",
   "execution_count": 5,
   "id": "570af87b-c906-41ea-8bc5-dbc71aee9dbf",
   "metadata": {
    "execution": {
     "iopub.execute_input": "2024-03-13T15:32:15.716527Z",
     "iopub.status.busy": "2024-03-13T15:32:15.715948Z",
     "iopub.status.idle": "2024-03-13T15:32:15.732946Z",
     "shell.execute_reply": "2024-03-13T15:32:15.730928Z",
     "shell.execute_reply.started": "2024-03-13T15:32:15.716493Z"
    }
   },
   "outputs": [],
   "source": [
    "common_voice = common_voice.remove_columns(\n",
    "    [\"accent\", \"age\", \"client_id\", \"down_votes\", \"gender\", \"locale\", \"path\", \"segment\", \"up_votes\"]\n",
    ")"
   ]
  },
  {
   "cell_type": "code",
   "execution_count": 6,
   "id": "309aff16-ea26-4474-af54-7ef244783999",
   "metadata": {
    "execution": {
     "iopub.execute_input": "2024-03-13T15:32:18.162577Z",
     "iopub.status.busy": "2024-03-13T15:32:18.161898Z",
     "iopub.status.idle": "2024-03-13T15:32:18.197239Z",
     "shell.execute_reply": "2024-03-13T15:32:18.195578Z",
     "shell.execute_reply.started": "2024-03-13T15:32:18.162509Z"
    }
   },
   "outputs": [
    {
     "data": {
      "text/plain": [
       "{'audio': {'path': '/output/huggingface/datasets/downloads/extracted/5b8961e060a17bf5e1ae0f1d3eae9fcccf012c6c1d59d98d714f3b52619c7d9c/zh-CN_train_0/common_voice_zh-CN_33211332.mp3',\n",
       "  'array': array([-6.82121026e-13, -2.27373675e-12, -2.27373675e-12, ...,\n",
       "          1.21667399e-05,  3.23003678e-06, -2.43066324e-07]),\n",
       "  'sampling_rate': 48000},\n",
       " 'sentence': '性喜温暖润湿气候且耐寒。'}"
      ]
     },
     "execution_count": 6,
     "metadata": {},
     "output_type": "execute_result"
    }
   ],
   "source": [
    "common_voice[\"train\"][0]"
   ]
  },
  {
   "cell_type": "markdown",
   "id": "881546ab-72e4-4bcf-852f-a8be736164b7",
   "metadata": {},
   "source": [
    "#### 降采样音频数据\n",
    "\n",
    "查看`common_voice` 数据集介绍，你会发现其音频是以48kHz的采样率进行采样的.\n",
    "\n",
    "而`Whisper`模型是在16kHZ的音频输入上预训练的，因此我们需要将音频输入降采样以匹配模型预训练时使用的采样率。\n",
    "\n",
    "通过在音频列上使用`cast_column`方法，并将`sampling_rate`设置为16kHz来对音频进行降采样。\n",
    "\n",
    "下次调用时，音频输入将实时重新取样："
   ]
  },
  {
   "cell_type": "code",
   "execution_count": 7,
   "id": "5fc451cc-e21e-473c-a702-d7d6ed098f91",
   "metadata": {
    "execution": {
     "iopub.execute_input": "2024-03-13T15:32:23.738238Z",
     "iopub.status.busy": "2024-03-13T15:32:23.737556Z",
     "iopub.status.idle": "2024-03-13T15:32:23.760172Z",
     "shell.execute_reply": "2024-03-13T15:32:23.758021Z",
     "shell.execute_reply.started": "2024-03-13T15:32:23.738170Z"
    }
   },
   "outputs": [],
   "source": [
    "from datasets import Audio\n",
    "\n",
    "common_voice = common_voice.cast_column(\"audio\", Audio(sampling_rate=16000))"
   ]
  },
  {
   "cell_type": "code",
   "execution_count": 8,
   "id": "cc3d7fcc-7c34-41c8-9857-5a6e883f6115",
   "metadata": {
    "execution": {
     "iopub.execute_input": "2024-03-13T15:32:25.741260Z",
     "iopub.status.busy": "2024-03-13T15:32:25.740569Z",
     "iopub.status.idle": "2024-03-13T15:32:25.770848Z",
     "shell.execute_reply": "2024-03-13T15:32:25.769101Z",
     "shell.execute_reply.started": "2024-03-13T15:32:25.741191Z"
    }
   },
   "outputs": [
    {
     "data": {
      "text/plain": [
       "{'audio': {'path': '/output/huggingface/datasets/downloads/extracted/5b8961e060a17bf5e1ae0f1d3eae9fcccf012c6c1d59d98d714f3b52619c7d9c/zh-CN_train_0/common_voice_zh-CN_33211332.mp3',\n",
       "  'array': array([ 5.09317033e-11, -7.27595761e-12, -6.54836185e-11, ...,\n",
       "         -5.96661994e-06,  2.71382887e-05,  1.29687978e-05]),\n",
       "  'sampling_rate': 16000},\n",
       " 'sentence': '性喜温暖润湿气候且耐寒。'}"
      ]
     },
     "execution_count": 8,
     "metadata": {},
     "output_type": "execute_result"
    }
   ],
   "source": [
    "# sampling_rate 从 48KHZ 降为 16KHZ\n",
    "common_voice[\"train\"][0]"
   ]
  },
  {
   "cell_type": "markdown",
   "id": "ee55908f-3ea3-4aee-8062-6f8d3a6573b9",
   "metadata": {},
   "source": [
    "### 整合以上数据处理为一个函数\n",
    "\n",
    "该数据预处理函数应该包括：\n",
    "- 通过加载音频列将音频输入重新采样为16kHZ。\n",
    "- 使用特征提取器从音频数组计算输入特征。\n",
    "- 将句子列标记化为输入标签。"
   ]
  },
  {
   "cell_type": "code",
   "execution_count": 9,
   "id": "58f42c35-35ba-4d6b-9d15-095963cec67c",
   "metadata": {
    "execution": {
     "iopub.execute_input": "2024-03-13T15:32:28.290902Z",
     "iopub.status.busy": "2024-03-13T15:32:28.290225Z",
     "iopub.status.idle": "2024-03-13T15:32:28.301610Z",
     "shell.execute_reply": "2024-03-13T15:32:28.299445Z",
     "shell.execute_reply.started": "2024-03-13T15:32:28.290835Z"
    }
   },
   "outputs": [],
   "source": [
    "def prepare_dataset(batch):\n",
    "    audio = batch[\"audio\"]\n",
    "    batch[\"input_features\"] = feature_extractor(audio[\"array\"], sampling_rate=audio[\"sampling_rate\"]).input_features[0]\n",
    "    batch[\"labels\"] = tokenizer(batch[\"sentence\"]).input_ids\n",
    "    return batch"
   ]
  },
  {
   "cell_type": "code",
   "execution_count": null,
   "id": "d3a04c60-09be-419c-bdc6-6d56bbf9d4d0",
   "metadata": {},
   "outputs": [],
   "source": []
  },
  {
   "cell_type": "markdown",
   "id": "a8923262-f881-476f-9806-61a3c8fb8518",
   "metadata": {},
   "source": [
    "### 数据抽样（演示需要）\n",
    "\n",
    "在 Whisper-Large-v2 上使用小规模数据进行演示训练，保持以下训练参数不变（batch_size=64）。\n",
    "\n",
    "使用 640 个样本训练，320个样本验证和评估，恰好使得1个 epoch 仅需10 steps 即可完成训练。\n",
    "\n",
    "（在 NVIDIA T4 上需要10-15分钟）"
   ]
  },
  {
   "cell_type": "raw",
   "id": "080f5805-cdcd-4b77-9b61-cc400a83e03f",
   "metadata": {},
   "source": [
    "DatasetDict({\n",
    "    train: Dataset({\n",
    "        features: ['client_id', 'path', 'audio', 'sentence', 'up_votes', 'down_votes', 'age', 'gender', 'accent', 'locale', 'segment'],\n",
    "        num_rows: 29056\n",
    "    })\n",
    "    validation: Dataset({\n",
    "        features: ['client_id', 'path', 'audio', 'sentence', 'up_votes', 'down_votes', 'age', 'gender', 'accent', 'locale', 'segment'],\n",
    "        num_rows: 10581\n",
    "    })\n",
    "})"
   ]
  },
  {
   "cell_type": "code",
   "execution_count": 10,
   "id": "28b14693-aa42-4f13-a537-66b5c4cb4718",
   "metadata": {
    "execution": {
     "iopub.execute_input": "2024-03-13T15:32:32.108682Z",
     "iopub.status.busy": "2024-03-13T15:32:32.107991Z",
     "iopub.status.idle": "2024-03-13T15:32:32.264581Z",
     "shell.execute_reply": "2024-03-13T15:32:32.262358Z",
     "shell.execute_reply.started": "2024-03-13T15:32:32.108617Z"
    }
   },
   "outputs": [],
   "source": [
    "small_common_voice = DatasetDict()\n",
    "\n",
    "small_common_voice[\"train\"] = common_voice[\"train\"].shuffle(seed=16).select(range(29056))\n",
    "small_common_voice[\"validation\"] = common_voice[\"validation\"].shuffle(seed=16).select(range(10581))"
   ]
  },
  {
   "cell_type": "code",
   "execution_count": 11,
   "id": "46b6a10b-81a9-428d-8130-4c2b626f3ba3",
   "metadata": {
    "execution": {
     "iopub.execute_input": "2024-03-13T15:32:33.823285Z",
     "iopub.status.busy": "2024-03-13T15:32:33.822609Z",
     "iopub.status.idle": "2024-03-13T15:32:33.835241Z",
     "shell.execute_reply": "2024-03-13T15:32:33.833258Z",
     "shell.execute_reply.started": "2024-03-13T15:32:33.823217Z"
    }
   },
   "outputs": [
    {
     "data": {
      "text/plain": [
       "DatasetDict({\n",
       "    train: Dataset({\n",
       "        features: ['audio', 'sentence'],\n",
       "        num_rows: 29056\n",
       "    })\n",
       "    validation: Dataset({\n",
       "        features: ['audio', 'sentence'],\n",
       "        num_rows: 10581\n",
       "    })\n",
       "})"
      ]
     },
     "execution_count": 11,
     "metadata": {},
     "output_type": "execute_result"
    }
   ],
   "source": [
    "small_common_voice"
   ]
  },
  {
   "cell_type": "markdown",
   "id": "5a40f480-6eeb-4546-891b-97ec4a7ec46d",
   "metadata": {},
   "source": [
    "### 如果全量训练，则使用完整数据代替抽样"
   ]
  },
  {
   "cell_type": "code",
   "execution_count": 12,
   "id": "392f7856-a720-40a7-af7e-40e185fc315b",
   "metadata": {
    "execution": {
     "iopub.execute_input": "2024-03-13T15:32:35.264090Z",
     "iopub.status.busy": "2024-03-13T15:32:35.263389Z",
     "iopub.status.idle": "2024-03-13T16:18:01.985987Z",
     "shell.execute_reply": "2024-03-13T16:18:01.985019Z",
     "shell.execute_reply.started": "2024-03-13T15:32:35.264020Z"
    }
   },
   "outputs": [
    {
     "data": {
      "application/vnd.jupyter.widget-view+json": {
       "model_id": "02b88ef4cdc1437bae2a8a4bfd986952",
       "version_major": 2,
       "version_minor": 0
      },
      "text/plain": [
       "Map:   0%|          | 0/29056 [00:00<?, ? examples/s]"
      ]
     },
     "metadata": {},
     "output_type": "display_data"
    },
    {
     "data": {
      "application/vnd.jupyter.widget-view+json": {
       "model_id": "18c83e12b9a9487e80794b43e57e2841",
       "version_major": 2,
       "version_minor": 0
      },
      "text/plain": [
       "Map:   0%|          | 0/10581 [00:00<?, ? examples/s]"
      ]
     },
     "metadata": {},
     "output_type": "display_data"
    }
   ],
   "source": [
    "# 抽样数据处理\n",
    "#tokenized_common_voice = small_common_voice.map(prepare_dataset)\n",
    "\n",
    "# 完整数据训练，尝试开启 `num_proc=8` 参数多进程并行处理（如阻塞无法运行，则不使用此参数）\n",
    "tokenized_common_voice = common_voice.map(prepare_dataset)"
   ]
  },
  {
   "cell_type": "code",
   "execution_count": 13,
   "id": "76646516-06e2-4700-92fe-4fbb87587e31",
   "metadata": {
    "execution": {
     "iopub.execute_input": "2024-03-13T16:18:01.988072Z",
     "iopub.status.busy": "2024-03-13T16:18:01.987297Z",
     "iopub.status.idle": "2024-03-13T16:18:01.993638Z",
     "shell.execute_reply": "2024-03-13T16:18:01.992849Z",
     "shell.execute_reply.started": "2024-03-13T16:18:01.988051Z"
    }
   },
   "outputs": [
    {
     "data": {
      "text/plain": [
       "DatasetDict({\n",
       "    train: Dataset({\n",
       "        features: ['audio', 'sentence', 'input_features', 'labels'],\n",
       "        num_rows: 29056\n",
       "    })\n",
       "    validation: Dataset({\n",
       "        features: ['audio', 'sentence', 'input_features', 'labels'],\n",
       "        num_rows: 10581\n",
       "    })\n",
       "})"
      ]
     },
     "execution_count": 13,
     "metadata": {},
     "output_type": "execute_result"
    }
   ],
   "source": [
    "tokenized_common_voice"
   ]
  },
  {
   "cell_type": "markdown",
   "id": "84ec184e-d840-40b6-99af-d11392273442",
   "metadata": {},
   "source": [
    "### 自定义语音数据整理器\n",
    "\n",
    "定义了一个针对语音到文本（Seq2Seq）模型的自定义数据整理器类，特别适用于输入为语音特征、输出为文本序列的数据集。\n",
    "\n",
    "\n",
    "这个整理器（`DataCollatorSpeechSeq2SeqWithPadding`）旨在将数据点批量打包，将每个批次中的`attention_mask`填充到最大长度，以保持批处理中张量形状的一致性，并用`-100`替换填充值，以便在损失函数中被忽略。这对于神经网络的高效训练至关重要。"
   ]
  },
  {
   "cell_type": "code",
   "execution_count": 14,
   "id": "4c89ffcf-c805-48c2-b7d3-ae01b687178c",
   "metadata": {
    "execution": {
     "iopub.execute_input": "2024-03-13T16:18:01.994594Z",
     "iopub.status.busy": "2024-03-13T16:18:01.994446Z",
     "iopub.status.idle": "2024-03-13T16:18:02.001221Z",
     "shell.execute_reply": "2024-03-13T16:18:02.000411Z",
     "shell.execute_reply.started": "2024-03-13T16:18:01.994578Z"
    }
   },
   "outputs": [],
   "source": [
    "import torch\n",
    "\n",
    "from dataclasses import dataclass\n",
    "from typing import Any, Dict, List, Union\n",
    "\n",
    "# 定义一个针对语音到文本任务的数据整理器类\n",
    "@dataclass\n",
    "class DataCollatorSpeechSeq2SeqWithPadding:\n",
    "    processor: Any  # 处理器结合了特征提取器和分词器\n",
    "\n",
    "    # 整理器函数，将特征列表处理成一个批次\n",
    "    def __call__(self, features: List[Dict[str, Union[List[int], torch.Tensor]]]) -> Dict[str, torch.Tensor]:\n",
    "        # 从特征列表中提取输入特征，并填充以使它们具有相同的形状\n",
    "        input_features = [{\"input_features\": feature[\"input_features\"]} for feature in features]\n",
    "        batch = self.processor.feature_extractor.pad(input_features, return_tensors=\"pt\")\n",
    "\n",
    "        # 从特征列表中提取标签特征（文本令牌），并进行填充\n",
    "        label_features = [{\"input_ids\": feature[\"labels\"]} for feature in features]\n",
    "        labels_batch = self.processor.tokenizer.pad(label_features, return_tensors=\"pt\")\n",
    "\n",
    "        # 使用-100替换标签中的填充区域，-100通常用于在损失计算中忽略填充令牌\n",
    "        labels = labels_batch[\"input_ids\"].masked_fill(labels_batch.attention_mask.ne(1), -100)\n",
    "\n",
    "        # 如果批次中的所有序列都以句子开始令牌开头，则移除它\n",
    "        if (labels[:, 0] == self.processor.tokenizer.bos_token_id).all().cpu().item():\n",
    "            labels = labels[:, 1:]\n",
    "\n",
    "        # 将处理过的标签添加到批次中\n",
    "        batch[\"labels\"] = labels\n",
    "\n",
    "        return batch  # 返回最终的批次，准备好进行训练或评估"
   ]
  },
  {
   "cell_type": "code",
   "execution_count": 15,
   "id": "a26a6b4d-5370-4a48-936a-84739ac0cc2f",
   "metadata": {
    "execution": {
     "iopub.execute_input": "2024-03-13T16:18:12.757231Z",
     "iopub.status.busy": "2024-03-13T16:18:12.756946Z",
     "iopub.status.idle": "2024-03-13T16:18:12.764570Z",
     "shell.execute_reply": "2024-03-13T16:18:12.762691Z",
     "shell.execute_reply.started": "2024-03-13T16:18:12.757205Z"
    }
   },
   "outputs": [],
   "source": [
    "# 用给定的处理器实例化数据整理器\n",
    "data_collator = DataCollatorSpeechSeq2SeqWithPadding(processor=processor)"
   ]
  },
  {
   "cell_type": "markdown",
   "id": "80ecd4bc-01fd-4286-afe5-fe2639ae15a1",
   "metadata": {},
   "source": [
    "## 模型准备\n",
    "\n",
    "### 加载预训练模型（int8 精度）\n",
    "\n",
    "使用 `int8 ` 精度加载预训练模型，进一步降低显存需求。"
   ]
  },
  {
   "cell_type": "code",
   "execution_count": 31,
   "id": "f9fcb121-fa5c-4c30-8bdc-9ab08ab75427",
   "metadata": {
    "execution": {
     "iopub.execute_input": "2024-03-13T19:51:27.825757Z",
     "iopub.status.busy": "2024-03-13T19:51:27.825041Z",
     "iopub.status.idle": "2024-03-13T19:51:33.576552Z",
     "shell.execute_reply": "2024-03-13T19:51:33.575673Z",
     "shell.execute_reply.started": "2024-03-13T19:51:27.825686Z"
    },
    "tags": []
   },
   "outputs": [
    {
     "name": "stderr",
     "output_type": "stream",
     "text": [
      "The `load_in_4bit` and `load_in_8bit` arguments are deprecated and will be removed in the future versions. Please, pass a `BitsAndBytesConfig` object in `quantization_config` argument instead.\n"
     ]
    }
   ],
   "source": [
    "from transformers import AutoModelForSpeechSeq2Seq\n",
    "\n",
    "model = AutoModelForSpeechSeq2Seq.from_pretrained(model_name_or_path, load_in_8bit=True, device_map=\"auto\")\n",
    "#model = AutoModelForSpeechSeq2Seq.from_pretrained(model_name_or_path, device_map=\"auto\")"
   ]
  },
  {
   "cell_type": "raw",
   "id": "e3daeaa2-6962-44c9-9c2a-41f37f7944de",
   "metadata": {
    "tags": []
   },
   "source": [
    "pip install accelerate"
   ]
  },
  {
   "cell_type": "raw",
   "id": "0556a8d6-de66-495d-8f41-30f71615a57b",
   "metadata": {
    "tags": []
   },
   "source": [
    "pip install -i https://pypi.org/simple/ bitsandbytes"
   ]
  },
  {
   "cell_type": "code",
   "execution_count": 32,
   "id": "2cb016f1-e6e9-4fd8-9c8b-72fd23be92d3",
   "metadata": {
    "execution": {
     "iopub.execute_input": "2024-03-13T19:51:38.973016Z",
     "iopub.status.busy": "2024-03-13T19:51:38.972717Z",
     "iopub.status.idle": "2024-03-13T19:51:38.979764Z",
     "shell.execute_reply": "2024-03-13T19:51:38.978434Z",
     "shell.execute_reply.started": "2024-03-13T19:51:38.972993Z"
    },
    "tags": []
   },
   "outputs": [],
   "source": [
    "# 设置模型配置中的forced_decoder_ids属性为None\n",
    "model.config.forced_decoder_ids = None  # 这通常用于指定在解码（生成文本）过程中必须使用的特定token的ID，设置为None表示没有这样的强制要求\n",
    "\n",
    "# 设置模型配置中的suppress_tokens列表为空\n",
    "model.config.suppress_tokens = []  # 这用于指定在生成过程中应被抑制（不生成）的token的列表，设置为空列表表示没有要抑制的token"
   ]
  },
  {
   "cell_type": "markdown",
   "id": "25ba1fa0-ea15-48d9-8c16-70df9f0b60b1",
   "metadata": {},
   "source": [
    "### PEFT 微调前的模型处理\n",
    "\n",
    "在使用 `peft` 训练 int8 模型之前，需要进行一些预处理：\n",
    "- 将所有非 `int8` 精度模块转换为全精度（`fp32`）以保证稳定性\n",
    "- 为输入嵌入层添加一个 `forward_hook`，以启用输入隐藏状态的梯度计算\n",
    "- 启用梯度检查点以实现更高效的内存训练\n",
    "\n",
    "使用 `peft` 库预定义的工具函数 `prepare_model_for_int8_training`，便可自动完成以上模型处理工作。"
   ]
  },
  {
   "cell_type": "code",
   "execution_count": 33,
   "id": "1ee34359-fe1b-48f1-827c-6a8ec4a53af7",
   "metadata": {
    "execution": {
     "iopub.execute_input": "2024-03-13T19:51:41.385232Z",
     "iopub.status.busy": "2024-03-13T19:51:41.384507Z",
     "iopub.status.idle": "2024-03-13T19:51:41.450179Z",
     "shell.execute_reply": "2024-03-13T19:51:41.448040Z",
     "shell.execute_reply.started": "2024-03-13T19:51:41.385162Z"
    },
    "tags": []
   },
   "outputs": [
    {
     "name": "stderr",
     "output_type": "stream",
     "text": [
      "/usr/local/lib/python3.8/site-packages/peft/utils/other.py:145: FutureWarning: prepare_model_for_int8_training is deprecated and will be removed in a future version. Use prepare_model_for_kbit_training instead.\n",
      "  warnings.warn(\n"
     ]
    }
   ],
   "source": [
    "from peft import prepare_model_for_int8_training\n",
    "\n",
    "model = prepare_model_for_int8_training(model)"
   ]
  },
  {
   "cell_type": "markdown",
   "id": "cb1212ae-c18c-459b-97a2-4b833c8414ae",
   "metadata": {},
   "source": [
    "### LoRA Adapter 配置\n",
    "\n",
    "在 `peft` 中使用`LoRA`非常简捷，借助 `PeftModel`抽象，我们可以快速使用低秩适配器（LoRA）到任意模型。\n",
    "\n",
    "通过使用 `peft` 中的 `get_peft_model` 工具函数来实现。\n",
    "\n",
    "#### 关于 LoRA 超参数的说明：\n",
    "```\n",
    "MatMul(B,A) * Scaling\n",
    "Scaling = LoRA_Alpha / Rank\n",
    "```"
   ]
  },
  {
   "cell_type": "code",
   "execution_count": 34,
   "id": "cdf6bc9c-6d2c-4dbf-b09e-a89cb1041c46",
   "metadata": {
    "execution": {
     "iopub.execute_input": "2024-03-13T19:51:44.433784Z",
     "iopub.status.busy": "2024-03-13T19:51:44.432164Z",
     "iopub.status.idle": "2024-03-13T19:51:44.444958Z",
     "shell.execute_reply": "2024-03-13T19:51:44.442677Z",
     "shell.execute_reply.started": "2024-03-13T19:51:44.433694Z"
    },
    "tags": []
   },
   "outputs": [],
   "source": [
    "from peft import LoraConfig, PeftModel, LoraModel, LoraConfig, get_peft_model\n",
    "\n",
    "# 创建一个LoraConfig对象，用于设置LoRA（Low-Rank Adaptation）的配置参数\n",
    "config = LoraConfig(\n",
    "    r=4,  # LoRA的秩，影响LoRA矩阵的大小\n",
    "    lora_alpha=64,  # LoRA适应的比例因子\n",
    "    # 指定将LoRA应用到的模型模块，通常是attention和全连接层的投影。\n",
    "    target_modules=[\"q_proj\", \"v_proj\"],\n",
    "    lora_dropout=0.05,  # 在LoRA模块中使用的dropout率\n",
    "    bias=\"none\",  # 设置bias的使用方式，这里没有使用bias\n",
    ")"
   ]
  },
  {
   "cell_type": "markdown",
   "id": "584652a6-cf07-49d3-a4ee-66f360441fc0",
   "metadata": {},
   "source": [
    "### 使用get_peft_model函数和给定的配置来获取一个PEFT模型"
   ]
  },
  {
   "cell_type": "code",
   "execution_count": 35,
   "id": "7a8f9dc5-6e15-4f16-9ac5-e7492356fe88",
   "metadata": {
    "execution": {
     "iopub.execute_input": "2024-03-13T19:51:46.197026Z",
     "iopub.status.busy": "2024-03-13T19:51:46.196268Z",
     "iopub.status.idle": "2024-03-13T19:51:46.430655Z",
     "shell.execute_reply": "2024-03-13T19:51:46.428919Z",
     "shell.execute_reply.started": "2024-03-13T19:51:46.196953Z"
    },
    "tags": []
   },
   "outputs": [],
   "source": [
    "peft_model = get_peft_model(model, config)"
   ]
  },
  {
   "cell_type": "code",
   "execution_count": 36,
   "id": "b74c7508-e6f4-42d8-8aaf-fe83c5977c35",
   "metadata": {
    "execution": {
     "iopub.execute_input": "2024-03-13T19:51:48.935836Z",
     "iopub.status.busy": "2024-03-13T19:51:48.935111Z",
     "iopub.status.idle": "2024-03-13T19:51:48.964981Z",
     "shell.execute_reply": "2024-03-13T19:51:48.962762Z",
     "shell.execute_reply.started": "2024-03-13T19:51:48.935765Z"
    },
    "tags": []
   },
   "outputs": [
    {
     "name": "stdout",
     "output_type": "stream",
     "text": [
      "trainable params: 1,966,080 || all params: 1,545,271,040 || trainable%: 0.12723204856023188\n"
     ]
    }
   ],
   "source": [
    "# 打印 LoRA 微调训练的模型参数\n",
    "peft_model.print_trainable_parameters()"
   ]
  },
  {
   "cell_type": "markdown",
   "id": "1cc6b26a-3e54-4a46-9b36-a048b40a37d7",
   "metadata": {},
   "source": [
    "## 模型训练\n",
    "\n",
    "#### Seq2SeqTrainingArguments 训练参数\n",
    "\n",
    "**关于设置训练步数和评估步数**\n",
    "\n",
    "基于 epochs 设置：\n",
    "\n",
    "```python\n",
    "    num_train_epochs=3,  # 训练的总轮数\n",
    "    evaluation_strategy=\"epoch\",  # 设置评估策略，这里是在每个epoch结束时进行评估\n",
    "    warmup_steps=50,  # 在训练初期增加学习率的步数，有助于稳定训练\n",
    "```\n",
    "\n",
    "基于 steps 设置：\n",
    "\n",
    "```python\n",
    "    max_steps=100, # 训练总步数\n",
    "    evaluation_strategy=\"steps\", \n",
    "    eval_steps=25, # 评估步数\n",
    "```"
   ]
  },
  {
   "cell_type": "code",
   "execution_count": 37,
   "id": "11f259c8-dbcf-4a7f-bbb5-821ab104efee",
   "metadata": {
    "execution": {
     "iopub.execute_input": "2024-03-13T19:51:54.449234Z",
     "iopub.status.busy": "2024-03-13T19:51:54.448509Z",
     "iopub.status.idle": "2024-03-13T19:51:54.465952Z",
     "shell.execute_reply": "2024-03-13T19:51:54.464116Z",
     "shell.execute_reply.started": "2024-03-13T19:51:54.449162Z"
    },
    "tags": []
   },
   "outputs": [],
   "source": [
    "from transformers import Seq2SeqTrainingArguments\n",
    "\n",
    "# 设置序列到序列模型训练的参数\n",
    "training_args = Seq2SeqTrainingArguments(\n",
    "    output_dir=model_dir,  # 指定模型输出和保存的目录\n",
    "    per_device_train_batch_size=batch_size,  # 每个设备上的训练批量大小\n",
    "    learning_rate=1e-2,  # 学习率\n",
    "    num_train_epochs=3,  # 训练的总轮数\n",
    "    evaluation_strategy=\"epoch\",  # 设置评估策略，这里是在每个epoch结束时进行评估\n",
    "    # warmup_steps=50,  # 在训练初期增加学习率的步数，有助于稳定训练\n",
    "    # fp16=True,  # 启用混合精度训练，可以提高训练速度，同时减少内存使用\n",
    "    per_device_eval_batch_size=batch_size,  # 每个设备上的评估批量大小\n",
    "    generation_max_length=64,  # 生成任务的最大长度\n",
    "    logging_steps=5,  # 指定日志记录的步骤，用于跟踪训练进度\n",
    "    remove_unused_columns=False,  # 是否删除不使用的列，以减少数据处理开销\n",
    "    label_names=[\"labels\"],  # 指定标签列的名称，用于训练过程中\n",
    "    # evaluation_strategy=\"steps\",\n",
    "    # eval_steps=25,\n",
    ")"
   ]
  },
  {
   "cell_type": "markdown",
   "id": "c57ee183-b16f-4313-97f6-0df6c0f5f467",
   "metadata": {},
   "source": [
    "### 实例化 Seq2SeqTrainer 训练器"
   ]
  },
  {
   "cell_type": "code",
   "execution_count": 38,
   "id": "f8a52ed7-cae0-4aba-818e-87717430d908",
   "metadata": {
    "execution": {
     "iopub.execute_input": "2024-03-13T19:51:57.825314Z",
     "iopub.status.busy": "2024-03-13T19:51:57.823664Z",
     "iopub.status.idle": "2024-03-13T19:51:57.847997Z",
     "shell.execute_reply": "2024-03-13T19:51:57.846105Z",
     "shell.execute_reply.started": "2024-03-13T19:51:57.825219Z"
    },
    "tags": []
   },
   "outputs": [
    {
     "name": "stderr",
     "output_type": "stream",
     "text": [
      "/usr/local/lib/python3.8/site-packages/accelerate/accelerator.py:432: FutureWarning: Passing the following arguments to `Accelerator` is deprecated and will be removed in version 1.0 of Accelerate: dict_keys(['dispatch_batches', 'split_batches', 'even_batches', 'use_seedable_sampler']). Please pass an `accelerate.DataLoaderConfiguration` instead: \n",
      "dataloader_config = DataLoaderConfiguration(dispatch_batches=None, split_batches=False, even_batches=True, use_seedable_sampler=True)\n",
      "  warnings.warn(\n"
     ]
    }
   ],
   "source": [
    "from transformers import Seq2SeqTrainer\n",
    "\n",
    "trainer = Seq2SeqTrainer(\n",
    "    args=training_args,\n",
    "    model=peft_model,\n",
    "    train_dataset=tokenized_common_voice[\"train\"],\n",
    "    eval_dataset=tokenized_common_voice[\"validation\"],\n",
    "    data_collator=data_collator,\n",
    "    tokenizer=processor.feature_extractor,\n",
    ")\n",
    "peft_model.config.use_cache = False"
   ]
  },
  {
   "cell_type": "code",
   "execution_count": 39,
   "id": "6973bed7-8f53-4d55-966c-f037941e5ef3",
   "metadata": {
    "execution": {
     "iopub.execute_input": "2024-03-13T19:51:59.690184Z",
     "iopub.status.busy": "2024-03-13T19:51:59.689256Z",
     "iopub.status.idle": "2024-03-14T01:43:53.837502Z",
     "shell.execute_reply": "2024-03-14T01:43:53.836419Z",
     "shell.execute_reply.started": "2024-03-13T19:51:59.690110Z"
    },
    "tags": []
   },
   "outputs": [
    {
     "data": {
      "text/html": [
       "\n",
       "    <div>\n",
       "      \n",
       "      <progress value='2724' max='2724' style='width:300px; height:20px; vertical-align: middle;'></progress>\n",
       "      [2724/2724 5:51:44, Epoch 3/3]\n",
       "    </div>\n",
       "    <table border=\"1\" class=\"dataframe\">\n",
       "  <thead>\n",
       " <tr style=\"text-align: left;\">\n",
       "      <th>Epoch</th>\n",
       "      <th>Training Loss</th>\n",
       "      <th>Validation Loss</th>\n",
       "    </tr>\n",
       "  </thead>\n",
       "  <tbody>\n",
       "    <tr>\n",
       "      <td>1</td>\n",
       "      <td>5.062300</td>\n",
       "      <td>4.938026</td>\n",
       "    </tr>\n",
       "    <tr>\n",
       "      <td>2</td>\n",
       "      <td>4.929100</td>\n",
       "      <td>4.949262</td>\n",
       "    </tr>\n",
       "    <tr>\n",
       "      <td>3</td>\n",
       "      <td>4.806100</td>\n",
       "      <td>4.846777</td>\n",
       "    </tr>\n",
       "  </tbody>\n",
       "</table><p>"
      ],
      "text/plain": [
       "<IPython.core.display.HTML object>"
      ]
     },
     "metadata": {},
     "output_type": "display_data"
    },
    {
     "name": "stderr",
     "output_type": "stream",
     "text": [
      "Checkpoint destination directory models/whisper-large-v2-asr-int8/checkpoint-500 already exists and is non-empty. Saving will proceed but saved results may be invalid.\n",
      "/usr/local/lib/python3.8/site-packages/torch/utils/checkpoint.py:460: UserWarning: torch.utils.checkpoint: please pass in use_reentrant=True or use_reentrant=False explicitly. The default value of use_reentrant will be updated to be False in the future. To maintain current behavior, pass use_reentrant=True. It is recommended that you use use_reentrant=False. Refer to docs for more details on the differences between the two variants.\n",
      "  warnings.warn(\n",
      "/usr/local/lib/python3.8/site-packages/torch/utils/checkpoint.py:90: UserWarning: None of the inputs have requires_grad=True. Gradients will be None\n",
      "  warnings.warn(\n",
      "/usr/local/lib/python3.8/site-packages/bitsandbytes/autograd/_functions.py:322: UserWarning: MatMul8bitLt: inputs will be cast from torch.float32 to float16 during quantization\n",
      "  warnings.warn(f\"MatMul8bitLt: inputs will be cast from {A.dtype} to float16 during quantization\")\n",
      "Checkpoint destination directory models/whisper-large-v2-asr-int8/checkpoint-1000 already exists and is non-empty. Saving will proceed but saved results may be invalid.\n",
      "/usr/local/lib/python3.8/site-packages/torch/utils/checkpoint.py:460: UserWarning: torch.utils.checkpoint: please pass in use_reentrant=True or use_reentrant=False explicitly. The default value of use_reentrant will be updated to be False in the future. To maintain current behavior, pass use_reentrant=True. It is recommended that you use use_reentrant=False. Refer to docs for more details on the differences between the two variants.\n",
      "  warnings.warn(\n",
      "/usr/local/lib/python3.8/site-packages/torch/utils/checkpoint.py:90: UserWarning: None of the inputs have requires_grad=True. Gradients will be None\n",
      "  warnings.warn(\n",
      "/usr/local/lib/python3.8/site-packages/bitsandbytes/autograd/_functions.py:322: UserWarning: MatMul8bitLt: inputs will be cast from torch.float32 to float16 during quantization\n",
      "  warnings.warn(f\"MatMul8bitLt: inputs will be cast from {A.dtype} to float16 during quantization\")\n",
      "/usr/local/lib/python3.8/site-packages/torch/utils/checkpoint.py:460: UserWarning: torch.utils.checkpoint: please pass in use_reentrant=True or use_reentrant=False explicitly. The default value of use_reentrant will be updated to be False in the future. To maintain current behavior, pass use_reentrant=True. It is recommended that you use use_reentrant=False. Refer to docs for more details on the differences between the two variants.\n",
      "  warnings.warn(\n",
      "/usr/local/lib/python3.8/site-packages/torch/utils/checkpoint.py:90: UserWarning: None of the inputs have requires_grad=True. Gradients will be None\n",
      "  warnings.warn(\n",
      "/usr/local/lib/python3.8/site-packages/bitsandbytes/autograd/_functions.py:322: UserWarning: MatMul8bitLt: inputs will be cast from torch.float32 to float16 during quantization\n",
      "  warnings.warn(f\"MatMul8bitLt: inputs will be cast from {A.dtype} to float16 during quantization\")\n",
      "/usr/local/lib/python3.8/site-packages/torch/utils/checkpoint.py:460: UserWarning: torch.utils.checkpoint: please pass in use_reentrant=True or use_reentrant=False explicitly. The default value of use_reentrant will be updated to be False in the future. To maintain current behavior, pass use_reentrant=True. It is recommended that you use use_reentrant=False. Refer to docs for more details on the differences between the two variants.\n",
      "  warnings.warn(\n",
      "/usr/local/lib/python3.8/site-packages/torch/utils/checkpoint.py:90: UserWarning: None of the inputs have requires_grad=True. Gradients will be None\n",
      "  warnings.warn(\n",
      "/usr/local/lib/python3.8/site-packages/bitsandbytes/autograd/_functions.py:322: UserWarning: MatMul8bitLt: inputs will be cast from torch.float32 to float16 during quantization\n",
      "  warnings.warn(f\"MatMul8bitLt: inputs will be cast from {A.dtype} to float16 during quantization\")\n",
      "/usr/local/lib/python3.8/site-packages/torch/utils/checkpoint.py:460: UserWarning: torch.utils.checkpoint: please pass in use_reentrant=True or use_reentrant=False explicitly. The default value of use_reentrant will be updated to be False in the future. To maintain current behavior, pass use_reentrant=True. It is recommended that you use use_reentrant=False. Refer to docs for more details on the differences between the two variants.\n",
      "  warnings.warn(\n",
      "/usr/local/lib/python3.8/site-packages/torch/utils/checkpoint.py:90: UserWarning: None of the inputs have requires_grad=True. Gradients will be None\n",
      "  warnings.warn(\n",
      "/usr/local/lib/python3.8/site-packages/bitsandbytes/autograd/_functions.py:322: UserWarning: MatMul8bitLt: inputs will be cast from torch.float32 to float16 during quantization\n",
      "  warnings.warn(f\"MatMul8bitLt: inputs will be cast from {A.dtype} to float16 during quantization\")\n"
     ]
    },
    {
     "data": {
      "text/plain": [
       "TrainOutput(global_step=2724, training_loss=4.973855607485106, metrics={'train_runtime': 21113.6966, 'train_samples_per_second': 4.129, 'train_steps_per_second': 0.129, 'total_flos': 1.85319357677568e+20, 'train_loss': 4.973855607485106, 'epoch': 3.0})"
      ]
     },
     "execution_count": 39,
     "metadata": {},
     "output_type": "execute_result"
    }
   ],
   "source": [
    "trainer.train()"
   ]
  },
  {
   "cell_type": "markdown",
   "id": "620992c3-64f5-48f9-8e66-fdc5f6a27427",
   "metadata": {},
   "source": [
    "### 保存 LoRA 模型(Adapter)"
   ]
  },
  {
   "cell_type": "code",
   "execution_count": 40,
   "id": "53310565-7313-46a7-acf1-215970fd4f8e",
   "metadata": {
    "execution": {
     "iopub.execute_input": "2024-03-14T01:43:53.840103Z",
     "iopub.status.busy": "2024-03-14T01:43:53.839221Z",
     "iopub.status.idle": "2024-03-14T01:43:54.860546Z",
     "shell.execute_reply": "2024-03-14T01:43:54.859296Z",
     "shell.execute_reply.started": "2024-03-14T01:43:53.840074Z"
    },
    "tags": []
   },
   "outputs": [],
   "source": [
    "trainer.save_model(model_dir)"
   ]
  },
  {
   "cell_type": "code",
   "execution_count": 41,
   "id": "412785f2-f66f-492a-b01a-06ca81d9aed7",
   "metadata": {
    "execution": {
     "iopub.execute_input": "2024-03-14T01:43:54.862606Z",
     "iopub.status.busy": "2024-03-14T01:43:54.862057Z",
     "iopub.status.idle": "2024-03-14T01:43:54.913425Z",
     "shell.execute_reply": "2024-03-14T01:43:54.911780Z",
     "shell.execute_reply.started": "2024-03-14T01:43:54.862564Z"
    },
    "tags": []
   },
   "outputs": [
    {
     "data": {
      "text/plain": [
       "PeftModel(\n",
       "  (base_model): LoraModel(\n",
       "    (model): WhisperForConditionalGeneration(\n",
       "      (model): WhisperModel(\n",
       "        (encoder): WhisperEncoder(\n",
       "          (conv1): Conv1d(80, 1280, kernel_size=(3,), stride=(1,), padding=(1,))\n",
       "          (conv2): Conv1d(1280, 1280, kernel_size=(3,), stride=(2,), padding=(1,))\n",
       "          (embed_positions): Embedding(1500, 1280)\n",
       "          (layers): ModuleList(\n",
       "            (0-31): 32 x WhisperEncoderLayer(\n",
       "              (self_attn): WhisperSdpaAttention(\n",
       "                (k_proj): Linear8bitLt(in_features=1280, out_features=1280, bias=False)\n",
       "                (v_proj): lora.Linear8bitLt(\n",
       "                  (base_layer): Linear8bitLt(in_features=1280, out_features=1280, bias=True)\n",
       "                  (lora_dropout): ModuleDict(\n",
       "                    (default): Dropout(p=0.05, inplace=False)\n",
       "                  )\n",
       "                  (lora_A): ModuleDict(\n",
       "                    (default): Linear(in_features=1280, out_features=4, bias=False)\n",
       "                  )\n",
       "                  (lora_B): ModuleDict(\n",
       "                    (default): Linear(in_features=4, out_features=1280, bias=False)\n",
       "                  )\n",
       "                  (lora_embedding_A): ParameterDict()\n",
       "                  (lora_embedding_B): ParameterDict()\n",
       "                )\n",
       "                (q_proj): lora.Linear8bitLt(\n",
       "                  (base_layer): Linear8bitLt(in_features=1280, out_features=1280, bias=True)\n",
       "                  (lora_dropout): ModuleDict(\n",
       "                    (default): Dropout(p=0.05, inplace=False)\n",
       "                  )\n",
       "                  (lora_A): ModuleDict(\n",
       "                    (default): Linear(in_features=1280, out_features=4, bias=False)\n",
       "                  )\n",
       "                  (lora_B): ModuleDict(\n",
       "                    (default): Linear(in_features=4, out_features=1280, bias=False)\n",
       "                  )\n",
       "                  (lora_embedding_A): ParameterDict()\n",
       "                  (lora_embedding_B): ParameterDict()\n",
       "                )\n",
       "                (out_proj): Linear8bitLt(in_features=1280, out_features=1280, bias=True)\n",
       "              )\n",
       "              (self_attn_layer_norm): LayerNorm((1280,), eps=1e-05, elementwise_affine=True)\n",
       "              (activation_fn): GELUActivation()\n",
       "              (fc1): Linear8bitLt(in_features=1280, out_features=5120, bias=True)\n",
       "              (fc2): Linear8bitLt(in_features=5120, out_features=1280, bias=True)\n",
       "              (final_layer_norm): LayerNorm((1280,), eps=1e-05, elementwise_affine=True)\n",
       "            )\n",
       "          )\n",
       "          (layer_norm): LayerNorm((1280,), eps=1e-05, elementwise_affine=True)\n",
       "        )\n",
       "        (decoder): WhisperDecoder(\n",
       "          (embed_tokens): Embedding(51865, 1280, padding_idx=50257)\n",
       "          (embed_positions): WhisperPositionalEmbedding(448, 1280)\n",
       "          (layers): ModuleList(\n",
       "            (0-31): 32 x WhisperDecoderLayer(\n",
       "              (self_attn): WhisperSdpaAttention(\n",
       "                (k_proj): Linear8bitLt(in_features=1280, out_features=1280, bias=False)\n",
       "                (v_proj): lora.Linear8bitLt(\n",
       "                  (base_layer): Linear8bitLt(in_features=1280, out_features=1280, bias=True)\n",
       "                  (lora_dropout): ModuleDict(\n",
       "                    (default): Dropout(p=0.05, inplace=False)\n",
       "                  )\n",
       "                  (lora_A): ModuleDict(\n",
       "                    (default): Linear(in_features=1280, out_features=4, bias=False)\n",
       "                  )\n",
       "                  (lora_B): ModuleDict(\n",
       "                    (default): Linear(in_features=4, out_features=1280, bias=False)\n",
       "                  )\n",
       "                  (lora_embedding_A): ParameterDict()\n",
       "                  (lora_embedding_B): ParameterDict()\n",
       "                )\n",
       "                (q_proj): lora.Linear8bitLt(\n",
       "                  (base_layer): Linear8bitLt(in_features=1280, out_features=1280, bias=True)\n",
       "                  (lora_dropout): ModuleDict(\n",
       "                    (default): Dropout(p=0.05, inplace=False)\n",
       "                  )\n",
       "                  (lora_A): ModuleDict(\n",
       "                    (default): Linear(in_features=1280, out_features=4, bias=False)\n",
       "                  )\n",
       "                  (lora_B): ModuleDict(\n",
       "                    (default): Linear(in_features=4, out_features=1280, bias=False)\n",
       "                  )\n",
       "                  (lora_embedding_A): ParameterDict()\n",
       "                  (lora_embedding_B): ParameterDict()\n",
       "                )\n",
       "                (out_proj): Linear8bitLt(in_features=1280, out_features=1280, bias=True)\n",
       "              )\n",
       "              (activation_fn): GELUActivation()\n",
       "              (self_attn_layer_norm): LayerNorm((1280,), eps=1e-05, elementwise_affine=True)\n",
       "              (encoder_attn): WhisperSdpaAttention(\n",
       "                (k_proj): Linear8bitLt(in_features=1280, out_features=1280, bias=False)\n",
       "                (v_proj): lora.Linear8bitLt(\n",
       "                  (base_layer): Linear8bitLt(in_features=1280, out_features=1280, bias=True)\n",
       "                  (lora_dropout): ModuleDict(\n",
       "                    (default): Dropout(p=0.05, inplace=False)\n",
       "                  )\n",
       "                  (lora_A): ModuleDict(\n",
       "                    (default): Linear(in_features=1280, out_features=4, bias=False)\n",
       "                  )\n",
       "                  (lora_B): ModuleDict(\n",
       "                    (default): Linear(in_features=4, out_features=1280, bias=False)\n",
       "                  )\n",
       "                  (lora_embedding_A): ParameterDict()\n",
       "                  (lora_embedding_B): ParameterDict()\n",
       "                )\n",
       "                (q_proj): lora.Linear8bitLt(\n",
       "                  (base_layer): Linear8bitLt(in_features=1280, out_features=1280, bias=True)\n",
       "                  (lora_dropout): ModuleDict(\n",
       "                    (default): Dropout(p=0.05, inplace=False)\n",
       "                  )\n",
       "                  (lora_A): ModuleDict(\n",
       "                    (default): Linear(in_features=1280, out_features=4, bias=False)\n",
       "                  )\n",
       "                  (lora_B): ModuleDict(\n",
       "                    (default): Linear(in_features=4, out_features=1280, bias=False)\n",
       "                  )\n",
       "                  (lora_embedding_A): ParameterDict()\n",
       "                  (lora_embedding_B): ParameterDict()\n",
       "                )\n",
       "                (out_proj): Linear8bitLt(in_features=1280, out_features=1280, bias=True)\n",
       "              )\n",
       "              (encoder_attn_layer_norm): LayerNorm((1280,), eps=1e-05, elementwise_affine=True)\n",
       "              (fc1): Linear8bitLt(in_features=1280, out_features=5120, bias=True)\n",
       "              (fc2): Linear8bitLt(in_features=5120, out_features=1280, bias=True)\n",
       "              (final_layer_norm): LayerNorm((1280,), eps=1e-05, elementwise_affine=True)\n",
       "            )\n",
       "          )\n",
       "          (layer_norm): LayerNorm((1280,), eps=1e-05, elementwise_affine=True)\n",
       "        )\n",
       "      )\n",
       "      (proj_out): Linear(in_features=1280, out_features=51865, bias=False)\n",
       "    )\n",
       "  )\n",
       ")"
      ]
     },
     "execution_count": 41,
     "metadata": {},
     "output_type": "execute_result"
    }
   ],
   "source": [
    "peft_model.eval()"
   ]
  },
  {
   "cell_type": "markdown",
   "id": "dcfe9611-eee5-462f-8cb8-fed86eec76e0",
   "metadata": {},
   "source": [
    "## 模型推理（可能需要重启 Notebook）\n",
    "\n",
    "**再次加载模型会额外占用显存，如果显存已经达到上限，建议重启 Notebook 后再进行以下操作**\n"
   ]
  },
  {
   "cell_type": "code",
   "execution_count": 1,
   "id": "bd2890f5-2eb9-493d-b43b-266fb12c6ac6",
   "metadata": {
    "execution": {
     "iopub.execute_input": "2024-03-14T04:36:45.779173Z",
     "iopub.status.busy": "2024-03-14T04:36:45.778208Z",
     "iopub.status.idle": "2024-03-14T04:36:45.797927Z",
     "shell.execute_reply": "2024-03-14T04:36:45.796385Z",
     "shell.execute_reply.started": "2024-03-14T04:36:45.779100Z"
    },
    "tags": []
   },
   "outputs": [],
   "source": [
    "model_dir = \"models/whisper-large-v2-asr-int8\"\n",
    "\n",
    "language = \"Chinese (China)\"\n",
    "language_abbr = \"zh-CN\"\n",
    "language_decode = \"chinese\"\n",
    "task = \"transcribe\""
   ]
  },
  {
   "cell_type": "raw",
   "id": "ffecce42-8e6a-4d9f-9ca1-f2cd0ff659c6",
   "metadata": {
    "execution": {
     "iopub.execute_input": "2024-03-14T04:36:02.148730Z",
     "iopub.status.busy": "2024-03-14T04:36:02.147850Z",
     "iopub.status.idle": "2024-03-14T04:36:19.534036Z",
     "shell.execute_reply": "2024-03-14T04:36:19.532248Z",
     "shell.execute_reply.started": "2024-03-14T04:36:02.148658Z"
    },
    "tags": []
   },
   "source": [
    "pip install git+https://github.com/huggingface/accelerate\n"
   ]
  },
  {
   "cell_type": "markdown",
   "id": "d5ad8bc8-420b-4a98-b83f-08303693221b",
   "metadata": {},
   "source": [
    "\n",
    "### 使用 `PeftModel` 加载 LoRA 微调后 Whisper 模型\n",
    "\n",
    "使用 `PeftConfig` 加载 LoRA Adapter 配置参数，使用 `PeftModel` 加载微调后 Whisper 模型"
   ]
  },
  {
   "cell_type": "code",
   "execution_count": 2,
   "id": "9d7f3af5-af01-4c26-80e9-976686983178",
   "metadata": {
    "execution": {
     "iopub.execute_input": "2024-03-14T04:36:56.590316Z",
     "iopub.status.busy": "2024-03-14T04:36:56.589512Z",
     "iopub.status.idle": "2024-03-14T04:37:07.671445Z",
     "shell.execute_reply": "2024-03-14T04:37:07.670523Z",
     "shell.execute_reply.started": "2024-03-14T04:36:56.590247Z"
    },
    "tags": []
   },
   "outputs": [
    {
     "name": "stderr",
     "output_type": "stream",
     "text": [
      "The `load_in_4bit` and `load_in_8bit` arguments are deprecated and will be removed in the future versions. Please, pass a `BitsAndBytesConfig` object in `quantization_config` argument instead.\n"
     ]
    }
   ],
   "source": [
    "from transformers import AutoModelForSpeechSeq2Seq, AutoTokenizer, AutoProcessor\n",
    "from peft import PeftConfig, PeftModel\n",
    "\n",
    "peft_config = PeftConfig.from_pretrained(model_dir)\n",
    "\n",
    "base_model = AutoModelForSpeechSeq2Seq.from_pretrained(\n",
    "    peft_config.base_model_name_or_path,load_in_8bit=True, device_map=\"auto\"\n",
    "    #peft_config.base_model_name_or_path, device_map=\"auto\"\n",
    ")\n",
    "\n",
    "peft_model = PeftModel.from_pretrained(base_model, model_dir)"
   ]
  },
  {
   "cell_type": "code",
   "execution_count": 3,
   "id": "e3686334-d8d1-4782-834b-187aa684fb77",
   "metadata": {
    "execution": {
     "iopub.execute_input": "2024-03-14T04:37:11.097019Z",
     "iopub.status.busy": "2024-03-14T04:37:11.096501Z",
     "iopub.status.idle": "2024-03-14T04:37:15.275312Z",
     "shell.execute_reply": "2024-03-14T04:37:15.274371Z",
     "shell.execute_reply.started": "2024-03-14T04:37:11.096998Z"
    },
    "tags": []
   },
   "outputs": [
    {
     "name": "stderr",
     "output_type": "stream",
     "text": [
      "Special tokens have been added in the vocabulary, make sure the associated word embeddings are fine-tuned or trained.\n",
      "Special tokens have been added in the vocabulary, make sure the associated word embeddings are fine-tuned or trained.\n"
     ]
    }
   ],
   "source": [
    "tokenizer = AutoTokenizer.from_pretrained(peft_config.base_model_name_or_path, language=language, task=task)\n",
    "processor = AutoProcessor.from_pretrained(peft_config.base_model_name_or_path, language=language, task=task)\n",
    "feature_extractor = processor.feature_extractor"
   ]
  },
  {
   "cell_type": "markdown",
   "id": "c31e558c-0c7b-445c-8210-52bd04fc0dd7",
   "metadata": {},
   "source": [
    "### 使用 Pipeline API 部署微调后 Whisper 实现中文语音识别任务"
   ]
  },
  {
   "cell_type": "code",
   "execution_count": 4,
   "id": "18181692-a143-44ee-b56c-e754d308e0ec",
   "metadata": {
    "execution": {
     "iopub.execute_input": "2024-03-14T04:37:17.232913Z",
     "iopub.status.busy": "2024-03-14T04:37:17.231488Z",
     "iopub.status.idle": "2024-03-14T04:37:17.238857Z",
     "shell.execute_reply": "2024-03-14T04:37:17.237513Z",
     "shell.execute_reply.started": "2024-03-14T04:37:17.232821Z"
    },
    "tags": []
   },
   "outputs": [],
   "source": [
    "test_audio = \"data/audio/test_zh.flac\""
   ]
  },
  {
   "cell_type": "code",
   "execution_count": 5,
   "id": "9d494647-082c-4e48-9486-7945618ae679",
   "metadata": {
    "execution": {
     "iopub.execute_input": "2024-03-14T04:37:18.219768Z",
     "iopub.status.busy": "2024-03-14T04:37:18.218547Z",
     "iopub.status.idle": "2024-03-14T04:37:18.591919Z",
     "shell.execute_reply": "2024-03-14T04:37:18.590949Z",
     "shell.execute_reply.started": "2024-03-14T04:37:18.219699Z"
    },
    "tags": []
   },
   "outputs": [],
   "source": [
    "from transformers import AutomaticSpeechRecognitionPipeline\n",
    "\n",
    "pipeline = AutomaticSpeechRecognitionPipeline(model=peft_model, tokenizer=tokenizer, feature_extractor=feature_extractor)\n",
    "\n",
    "forced_decoder_ids = processor.get_decoder_prompt_ids(language=language_decode, task=task)"
   ]
  },
  {
   "cell_type": "code",
   "execution_count": 6,
   "id": "90da1707-9054-416f-b0b6-a6203f8d3285",
   "metadata": {
    "execution": {
     "iopub.execute_input": "2024-03-14T04:37:21.019749Z",
     "iopub.status.busy": "2024-03-14T04:37:21.018605Z",
     "iopub.status.idle": "2024-03-14T04:38:01.414185Z",
     "shell.execute_reply": "2024-03-14T04:38:01.412808Z",
     "shell.execute_reply.started": "2024-03-14T04:37:21.019676Z"
    },
    "tags": []
   },
   "outputs": [
    {
     "name": "stderr",
     "output_type": "stream",
     "text": [
      "/usr/local/lib/python3.8/site-packages/bitsandbytes/autograd/_functions.py:322: UserWarning: MatMul8bitLt: inputs will be cast from torch.float32 to float16 during quantization\n",
      "  warnings.warn(f\"MatMul8bitLt: inputs will be cast from {A.dtype} to float16 during quantization\")\n",
      "Due to a bug fix in https://github.com/huggingface/transformers/pull/28687 transcription using a multilingual Whisper will default to language detection followed by transcription instead of translation to English.This might be a breaking change for your use case. If you want to instead always translate your audio to English, make sure to pass `language='en'`.\n"
     ]
    }
   ],
   "source": [
    "import torch\n",
    "\n",
    "with torch.cuda.amp.autocast():\n",
    "    text = pipeline(test_audio, max_new_tokens=255)[\"text\"]"
   ]
  },
  {
   "cell_type": "code",
   "execution_count": 8,
   "id": "89f49787-6ab4-4bc1-91b8-a1c104c9feaf",
   "metadata": {
    "execution": {
     "iopub.execute_input": "2024-03-14T04:41:54.562795Z",
     "iopub.status.busy": "2024-03-14T04:41:54.562054Z",
     "iopub.status.idle": "2024-03-14T04:41:54.575077Z",
     "shell.execute_reply": "2024-03-14T04:41:54.572648Z",
     "shell.execute_reply.started": "2024-03-14T04:41:54.562725Z"
    },
    "tags": []
   },
   "outputs": [
    {
     "data": {
      "text/plain": [
       "'的在在在在在在在在在在在在�的的的的的的的的的的的的的的的的的的的的的的的的的的的的的的的的的的的的的的的的的的的的的的的的的的的的的的的的的的的的的的的的的的的的的的的的的的的的的的的的的的的的的的的的的的的的的的的的的的的的的的的的的的的的的的的的的的的的的的的的的的的的的的的的的的的的的的的的的的的的的的的的的的的的的的的的的的的的的的的的的的的的的的的的的的的的的的的的的的的的的的的的的的的的的的的的的的的的的的的的的的的的的的的的的的的的的的的的的的的的的的的的的的的的的的的的的的的的的的的的的'"
      ]
     },
     "execution_count": 8,
     "metadata": {},
     "output_type": "execute_result"
    }
   ],
   "source": [
    "text"
   ]
  },
  {
   "cell_type": "code",
   "execution_count": 24,
   "id": "e309d02a-6ffa-46bc-901d-75afa8b0f460",
   "metadata": {
    "execution": {
     "iopub.execute_input": "2024-03-14T04:46:14.143806Z",
     "iopub.status.busy": "2024-03-14T04:46:14.142854Z",
     "iopub.status.idle": "2024-03-14T04:46:14.154529Z",
     "shell.execute_reply": "2024-03-14T04:46:14.152204Z",
     "shell.execute_reply.started": "2024-03-14T04:46:14.143716Z"
    },
    "tags": []
   },
   "outputs": [],
   "source": [
    "test_audio = \"data/audio/test3.mp3\""
   ]
  },
  {
   "cell_type": "code",
   "execution_count": 25,
   "id": "65dcffd1-7396-458f-9e01-b55293960791",
   "metadata": {
    "execution": {
     "iopub.execute_input": "2024-03-14T04:46:15.172706Z",
     "iopub.status.busy": "2024-03-14T04:46:15.171975Z",
     "iopub.status.idle": "2024-03-14T04:46:15.183762Z",
     "shell.execute_reply": "2024-03-14T04:46:15.181468Z",
     "shell.execute_reply.started": "2024-03-14T04:46:15.172638Z"
    },
    "tags": []
   },
   "outputs": [],
   "source": [
    "from transformers import AutomaticSpeechRecognitionPipeline\n",
    "\n",
    "pipeline = AutomaticSpeechRecognitionPipeline(model=peft_model, tokenizer=tokenizer, feature_extractor=feature_extractor)\n",
    "\n",
    "forced_decoder_ids = processor.get_decoder_prompt_ids(language=language_decode, task=task)"
   ]
  },
  {
   "cell_type": "code",
   "execution_count": 26,
   "id": "ddb4caae-b9a8-4eda-b30b-7f5b6eb49c9a",
   "metadata": {
    "execution": {
     "iopub.execute_input": "2024-03-14T04:46:16.327619Z",
     "iopub.status.busy": "2024-03-14T04:46:16.326882Z",
     "iopub.status.idle": "2024-03-14T04:46:57.144491Z",
     "shell.execute_reply": "2024-03-14T04:46:57.143559Z",
     "shell.execute_reply.started": "2024-03-14T04:46:16.327552Z"
    },
    "tags": []
   },
   "outputs": [
    {
     "name": "stderr",
     "output_type": "stream",
     "text": [
      "/usr/local/lib/python3.8/site-packages/bitsandbytes/autograd/_functions.py:322: UserWarning: MatMul8bitLt: inputs will be cast from torch.float32 to float16 during quantization\n",
      "  warnings.warn(f\"MatMul8bitLt: inputs will be cast from {A.dtype} to float16 during quantization\")\n"
     ]
    }
   ],
   "source": [
    "import torch\n",
    "\n",
    "with torch.cuda.amp.autocast():\n",
    "    text = pipeline(test_audio, max_new_tokens=255)[\"text\"]"
   ]
  },
  {
   "cell_type": "code",
   "execution_count": 27,
   "id": "463c0748-b018-4f55-806e-a9562beb348c",
   "metadata": {
    "execution": {
     "iopub.execute_input": "2024-03-14T04:46:57.145986Z",
     "iopub.status.busy": "2024-03-14T04:46:57.145641Z",
     "iopub.status.idle": "2024-03-14T04:46:57.151567Z",
     "shell.execute_reply": "2024-03-14T04:46:57.150762Z",
     "shell.execute_reply.started": "2024-03-14T04:46:57.145965Z"
    },
    "tags": []
   },
   "outputs": [
    {
     "data": {
      "text/plain": [
       "'州州州州州州州州州州州州州州州州州州州州州州州州州州州州州州州州州州州州州州州州州州州州州州州州州州州州州州州州州州州州州州州州州州州州州州州州州州州州州州州州州州州州州州州州州州州州州州州州州州州州州州州州州州州州州州州州州州州州州州州州州州州州州州州州州州州州州州州州州州州州州州州州州州州州州州州州州州州州州州州州州州州州州州州州州州州州州州州州州州州州州州州州州州州州州州州州州州州州州州州州州州州州州州州州州州州州州州州州州州�州�州�州�州�州���������������������������'"
      ]
     },
     "execution_count": 27,
     "metadata": {},
     "output_type": "execute_result"
    }
   ],
   "source": [
    "text"
   ]
  },
  {
   "cell_type": "markdown",
   "id": "0285dd19-229e-4241-b680-71e25ab51dde",
   "metadata": {},
   "source": [
    "## Homework\n",
    "\n",
    "1. 使用完整的数据集训练，对比 Train Loss 和 Validation Loss 变化。训练完成后，使用测试集进行模型评估.\n",
    "2. [Optional]使用其他语种（如：德语、法语等）的数据集进行微调训练，并进行模型评估模型评估。"
   ]
  },
  {
   "cell_type": "code",
   "execution_count": null,
   "id": "8801650e-6666-412a-981f-1f8933d5df55",
   "metadata": {},
   "outputs": [],
   "source": []
  }
 ],
 "metadata": {
  "kernelspec": {
   "display_name": "Python 3 (ipykernel)",
   "language": "python",
   "name": "python3"
  },
  "language_info": {
   "codemirror_mode": {
    "name": "ipython",
    "version": 3
   },
   "file_extension": ".py",
   "mimetype": "text/x-python",
   "name": "python",
   "nbconvert_exporter": "python",
   "pygments_lexer": "ipython3",
   "version": "3.8.18"
  }
 },
 "nbformat": 4,
 "nbformat_minor": 5
}
