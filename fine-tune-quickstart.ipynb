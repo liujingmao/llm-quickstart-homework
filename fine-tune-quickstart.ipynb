{
 "cells": [
  {
   "cell_type": "code",
   "execution_count": 1,
   "id": "e7d698ad-2af8-4d88-800f-428d13edc4c4",
   "metadata": {},
   "outputs": [],
   "source": [
    "from datasets import load_dataset"
   ]
  },
  {
   "cell_type": "code",
   "execution_count": 4,
   "id": "903585d8-32d3-413b-94c6-5099bf046ec7",
   "metadata": {},
   "outputs": [
    {
     "data": {
      "application/vnd.jupyter.widget-view+json": {
       "model_id": "22d3c363b45347c9b24a000521c864db",
       "version_major": 2,
       "version_minor": 0
      },
      "text/plain": [
       "Downloading readme:   0%|          | 0.00/6.72k [00:00<?, ?B/s]"
      ]
     },
     "metadata": {},
     "output_type": "display_data"
    },
    {
     "data": {
      "application/vnd.jupyter.widget-view+json": {
       "model_id": "c5b14cb1631649239bddb8d69ca1cc5d",
       "version_major": 2,
       "version_minor": 0
      },
      "text/plain": [
       "Downloading data:   0%|          | 0.00/299M [00:00<?, ?B/s]"
      ]
     },
     "metadata": {},
     "output_type": "display_data"
    },
    {
     "data": {
      "application/vnd.jupyter.widget-view+json": {
       "model_id": "cdc5ddcbeb924feb82a2b1037c754307",
       "version_major": 2,
       "version_minor": 0
      },
      "text/plain": [
       "Downloading data:   0%|          | 0.00/23.5M [00:00<?, ?B/s]"
      ]
     },
     "metadata": {},
     "output_type": "display_data"
    },
    {
     "data": {
      "application/vnd.jupyter.widget-view+json": {
       "model_id": "711578b73a244dcfbec365b03db28d9e",
       "version_major": 2,
       "version_minor": 0
      },
      "text/plain": [
       "Generating train split:   0%|          | 0/650000 [00:00<?, ? examples/s]"
      ]
     },
     "metadata": {},
     "output_type": "display_data"
    },
    {
     "data": {
      "application/vnd.jupyter.widget-view+json": {
       "model_id": "fded3789488d4befb014b421e3115d7f",
       "version_major": 2,
       "version_minor": 0
      },
      "text/plain": [
       "Generating test split:   0%|          | 0/50000 [00:00<?, ? examples/s]"
      ]
     },
     "metadata": {},
     "output_type": "display_data"
    }
   ],
   "source": [
    "dataset = load_dataset(\"yelp_review_full\")"
   ]
  },
  {
   "cell_type": "code",
   "execution_count": 5,
   "id": "34aa4018-54fa-4cfb-aff5-9260f9b55e75",
   "metadata": {},
   "outputs": [
    {
     "data": {
      "text/plain": [
       "{'label': 2,\n",
       " 'text': \"As far as Starbucks go, this is a pretty nice one.  The baristas are friendly and while I was here, a lot of regulars must have come in, because they bantered away with almost everyone.  The bathroom was clean and well maintained and the trash wasn't overflowing in the canisters around the store.  The pastries looked fresh, but I didn't partake.  The noise level was also at a nice working level - not too loud, music just barely audible.\\\\n\\\\nI do wish there was more seating.  It is nice that this location has a counter at the end of the bar for sole workers, but it doesn't replace more tables.  I'm sure this isn't as much of a problem in the summer when there's the space outside.\\\\n\\\\nThere was a treat receipt promo going on, but the barista didn't tell me about it, which I found odd.  Usually when they have promos like that going on, they ask everyone if they want their receipt to come back later in the day to claim whatever the offer is.  Today it was one of their new pastries for $1, I know in the summer they do $2 grande iced drinks with that morning's receipt.\\\\n\\\\nOverall, nice working or socializing environment.  Very friendly and inviting.  It's what I've come to expect from Starbucks, so points for consistency.\"}"
      ]
     },
     "execution_count": 5,
     "metadata": {},
     "output_type": "execute_result"
    }
   ],
   "source": [
    "dataset[\"train\"][111]"
   ]
  },
  {
   "cell_type": "code",
   "execution_count": 6,
   "id": "da546cab-0369-40b7-8cc0-bba394d92162",
   "metadata": {},
   "outputs": [
    {
     "data": {
      "text/plain": [
       "{'train': (650000, 2), 'test': (50000, 2)}"
      ]
     },
     "execution_count": 6,
     "metadata": {},
     "output_type": "execute_result"
    }
   ],
   "source": [
    "dataset.shape"
   ]
  },
  {
   "cell_type": "code",
   "execution_count": 7,
   "id": "dd5e24d3-f100-4fda-baf0-05e4c15d117f",
   "metadata": {},
   "outputs": [
    {
     "data": {
      "text/plain": [
       "{'train': ['label', 'text'], 'test': ['label', 'text']}"
      ]
     },
     "execution_count": 7,
     "metadata": {},
     "output_type": "execute_result"
    }
   ],
   "source": [
    "dataset.column_names"
   ]
  },
  {
   "cell_type": "code",
   "execution_count": 8,
   "id": "9ae8acf6-0e31-4a81-8606-e12885c768a2",
   "metadata": {},
   "outputs": [],
   "source": [
    "##  \n",
    "import random\n",
    "import pandas as pd\n",
    "import datasets\n",
    "from IPython.display import display, HTML"
   ]
  },
  {
   "cell_type": "code",
   "execution_count": 9,
   "id": "86759318-1e31-4038-bff5-60ecb135faf9",
   "metadata": {},
   "outputs": [],
   "source": [
    "def show_random_elements(dataset, num_examples=10):\n",
    "    assert num_examples <= len(dataset), \"Can't pick more elements than there are in the dataset.\"\n",
    "    picks = []\n",
    "    for _ in range(num_examples):\n",
    "        pick = random.randint(0, len(dataset)-1)\n",
    "        while pick in picks:\n",
    "            pick = random.randint(0, len(dataset)-1)\n",
    "        picks.append(pick)\n",
    "    \n",
    "    df = pd.DataFrame(dataset[picks])\n",
    "    for column, typ in dataset.features.items():\n",
    "        if isinstance(typ, datasets.ClassLabel):\n",
    "            df[column] = df[column].transform(lambda i: typ.names[i])\n",
    "    display(HTML(df.to_html()))"
   ]
  },
  {
   "cell_type": "code",
   "execution_count": 10,
   "id": "a8240633-239a-42c8-876a-2064db4fcc45",
   "metadata": {},
   "outputs": [
    {
     "data": {
      "text/html": [
       "<table border=\"1\" class=\"dataframe\">\n",
       "  <thead>\n",
       "    <tr style=\"text-align: right;\">\n",
       "      <th></th>\n",
       "      <th>label</th>\n",
       "      <th>text</th>\n",
       "    </tr>\n",
       "  </thead>\n",
       "  <tbody>\n",
       "    <tr>\n",
       "      <th>0</th>\n",
       "      <td>4 stars</td>\n",
       "      <td>I love this place. There, I said it.\\n\\nIf I could pick a secret super-hero dining tool, it would be an extending fork. I love to try everything - all of it. A perfect meal for me means I have sampled it all.... Shared with my neighbor and snagged a little something from your plate. No need here, small plates built to share means people like me are happy campers!\\n\\nAlthough its billed as a Spanish tapas joint, it has a more American flare.\\n\\nMy faves of the evening:\\n- goat cheese lollipops - ohhhh we ordered more!\\n- steak\\n- donuts\\n- churros (clearly I have a dessert problem)\\n\\nMy not faves -\\n- calamari - table loved it, just not my thing\\n- paella - my muscles were a bit strong\\n\\nFantastic drinks, people watching and service. We dines with 8 people, and had a ton of dishes. The bill slit was 120 which seemed pretty good. Great value, and super convenient for the cirque show.\\n\\nIt didn't hurt that we sat next to a fabulous bachelorette party dressed as Air Force pilots (nice one ladies)\\n\\nIll go back. Loads of fun and great food.</td>\n",
       "    </tr>\n",
       "    <tr>\n",
       "      <th>1</th>\n",
       "      <td>5 stars</td>\n",
       "      <td>Awesome saloon! Went to this place for a after work get together! I may have used coupons to get my food and beer although it did not take away my bull riding experience! Watched YouTube videos for a few days on how to ride a bull but nothing can prepare you for this Beastly Bohemeth! I paid $40 and signed my life away and got to ride the Bull! I figured how many opportunities am I going to get riding a bull!?!? Awesome staff and supportive staff and bull fighters!</td>\n",
       "    </tr>\n",
       "    <tr>\n",
       "      <th>2</th>\n",
       "      <td>3 stars</td>\n",
       "      <td>Had a \\\"get $20 worth of food for $10\\\" offer online, so I wanted to try this place.\\n\\nGonna have to give this place a big ole' \\\"Meh.\\\"\\n\\nCompared to Playa Hermosa, this joint is definitely a  3 to their 5.\\n\\nI had the Molcajete Mariscos (which I also had a Playa) to compare the two.  Playa's version is MUCH tastier and has more food in it.  Less \\\"gloppy.\\\"\\n\\nThe service was a little disjointed (for which I don't reduce stars unless it falls into the TERRIBLE range) in that I had to ask her twice for a couple of things, and she was not overloaded.  My requests seemed to just fall on the backside of remembrance.\\n\\nThe $2 Happy Hour Maggies were decent tasting, although small-ish when you consider the total quantity of fluid.  They were well-spiked though, as I did get a little buzz from having just two of them.\\n\\nThe salsa and chips were above-average I think - the salsa both red and a little smoky and chunky.  Chips on the thick side.\\n\\nI'd try them again, just to see the range of the offerings.\\n\\nAs people who follow my reviews will notice, I did indeed follow my rule of never giving a highly-rated place 1 or 2 stars after  just one visit.  Can't have a full knowledge of all that goes on there from just a single visit, IMHO.</td>\n",
       "    </tr>\n",
       "    <tr>\n",
       "      <th>3</th>\n",
       "      <td>1 star</td>\n",
       "      <td>Expensive!!!!\\nThat is the only word I have for Ella's.  We ate here on a Saturday for lunch.  It had great ambiance and the kids loved it.  There were 4 of us.  We all had sandwiches and my cousin and I shared a $12 sandwich plate with all the fixins.  My wife and his girlfriend had sandwiches and we ordered 3 drinks and a water.  The kids ate off of our plates as they always do.  I figured the bill was going to be around $40 because we didn't even order ice cream.  3 drinks, 2 sandwiches and 1 \\\"shared sandwich\\\" and our bill was $61.62.  WTH?!?!?!?\\n\\nI went over it with a fine-tooth comb and noticed they charge almost $5 for a small order of cheese fries.  The drinks were $3 each and their sandwiches were over $10 each.  WTH?!?!?!?!?\\n\\nI couldn't believe how much they charge for cold meat sandwiches.  We could have spend $40 at Panera and had more food and much higher quality.\\n\\nIt looks like this place is getting a lot of bad reviews lately.  I really hope they are reading their Yelp page and they fix things.  I will never go back here again.  I can eat at a nice steak house for $60.  Cold meat sandwiches aren't worth as much as this place charges for them.  Ripoff Central.  Stay away.</td>\n",
       "    </tr>\n",
       "    <tr>\n",
       "      <th>4</th>\n",
       "      <td>3 stars</td>\n",
       "      <td>I went for the dollar beer again and met a friend for dinner.  I had the grilled chicken buffalo wrap.  The flavor was good but I think they use canned chicken for the grilled chicken and the bacon was rubbery but other than that it was not too bad.  The homemade potato chips that they served with the wrap were excellent.</td>\n",
       "    </tr>\n",
       "    <tr>\n",
       "      <th>5</th>\n",
       "      <td>5 stars</td>\n",
       "      <td>Nothing but amazing!!!!! Try the elk oscar style, heaven on a plate!!</td>\n",
       "    </tr>\n",
       "    <tr>\n",
       "      <th>6</th>\n",
       "      <td>1 star</td>\n",
       "      <td>Dirty drink glass, overly salt potatoes in skillet, grease beyond belief on bottom of skillet and the bathroom was more filthy and deplorable than proper etiquette can speak of a</td>\n",
       "    </tr>\n",
       "    <tr>\n",
       "      <th>7</th>\n",
       "      <td>1 star</td>\n",
       "      <td>Before I got my new Hyundai Sonata, I had my old 2004 PT Cruiser serviced here a few months ago. Let me tell you one thing, the people that are doing the oil changes are not good. First I paid over $100 (with tax) for a \\\"high mileage\\\" oil change. It was a couple of hours before a trip and the other shop I usually took it to was closed. I was like, \\\"Okay.. I'll suck it up and deal with the cost.\\\" So I wait for an hour (these people are slow) and they tell me my car is done. Not even a week later, I noticed that my car is seriously leaking oil. So I take it to my normal mechanic and they tell me that Jiffy Lube had ruined my oil plug by over tightening it. So I had to pay for a new oil plug, but luckily my mechanic gave me a oil change free of charge. I'm not impressed at all by the service here.</td>\n",
       "    </tr>\n",
       "    <tr>\n",
       "      <th>8</th>\n",
       "      <td>1 star</td>\n",
       "      <td>We hadn't eaten in a Fridays in years, so we thought we have a nice dinner with the kids this past Saturday. My husband signed up for their app while we waited to be served. To spare you the graphic details, let's just say he's been in the bathroom ever since, and today is Tuesday! He's used their \\\"feedback\\\" feature no less than a half dozen times in the last three days, and I can only assume that there is no one checking it. We had minor issues with service and the time it took to get our food, but these seem less important now.\\n\\nIt simply is not the place it once was.</td>\n",
       "    </tr>\n",
       "    <tr>\n",
       "      <th>9</th>\n",
       "      <td>1 star</td>\n",
       "      <td>the place where all you gotta have is a record to work there!!!sweet!!!</td>\n",
       "    </tr>\n",
       "  </tbody>\n",
       "</table>"
      ],
      "text/plain": [
       "<IPython.core.display.HTML object>"
      ]
     },
     "metadata": {},
     "output_type": "display_data"
    }
   ],
   "source": [
    "show_random_elements(dataset[\"train\"])"
   ]
  },
  {
   "cell_type": "code",
   "execution_count": 11,
   "id": "b763c4a9-8648-436d-ae78-664f3b17dfa9",
   "metadata": {},
   "outputs": [
    {
     "data": {
      "application/vnd.jupyter.widget-view+json": {
       "model_id": "522ecc8740db4eeaa31a1d05b51ec7fe",
       "version_major": 2,
       "version_minor": 0
      },
      "text/plain": [
       "tokenizer_config.json:   0%|          | 0.00/49.0 [00:00<?, ?B/s]"
      ]
     },
     "metadata": {},
     "output_type": "display_data"
    },
    {
     "data": {
      "application/vnd.jupyter.widget-view+json": {
       "model_id": "7f37fba47d4d4c4baa37a28f33df60d0",
       "version_major": 2,
       "version_minor": 0
      },
      "text/plain": [
       "config.json:   0%|          | 0.00/570 [00:00<?, ?B/s]"
      ]
     },
     "metadata": {},
     "output_type": "display_data"
    },
    {
     "data": {
      "application/vnd.jupyter.widget-view+json": {
       "model_id": "67ab26ff59dc479fb9324b15b49fe701",
       "version_major": 2,
       "version_minor": 0
      },
      "text/plain": [
       "vocab.txt:   0%|          | 0.00/213k [00:00<?, ?B/s]"
      ]
     },
     "metadata": {},
     "output_type": "display_data"
    },
    {
     "data": {
      "application/vnd.jupyter.widget-view+json": {
       "model_id": "d7d54a8e445e4bb39e60e95724d0a49f",
       "version_major": 2,
       "version_minor": 0
      },
      "text/plain": [
       "tokenizer.json:   0%|          | 0.00/436k [00:00<?, ?B/s]"
      ]
     },
     "metadata": {},
     "output_type": "display_data"
    },
    {
     "data": {
      "application/vnd.jupyter.widget-view+json": {
       "model_id": "4eba8f3f80444294b94b224a5ed5c89f",
       "version_major": 2,
       "version_minor": 0
      },
      "text/plain": [
       "Map:   0%|          | 0/650000 [00:00<?, ? examples/s]"
      ]
     },
     "metadata": {},
     "output_type": "display_data"
    },
    {
     "data": {
      "application/vnd.jupyter.widget-view+json": {
       "model_id": "5b01f26de8784489947cb7a348307876",
       "version_major": 2,
       "version_minor": 0
      },
      "text/plain": [
       "Map:   0%|          | 0/50000 [00:00<?, ? examples/s]"
      ]
     },
     "metadata": {},
     "output_type": "display_data"
    }
   ],
   "source": [
    "### 数据处理\n",
    "from transformers import AutoTokenizer\n",
    "\n",
    "tokenizer = AutoTokenizer.from_pretrained(\"bert-base-cased\")\n",
    "\n",
    "\n",
    "def tokenize_function(examples):\n",
    "    return tokenizer(examples[\"text\"], padding=\"max_length\", truncation=True)\n",
    "\n",
    "\n",
    "tokenized_datasets = dataset.map(tokenize_function, batched=True)"
   ]
  },
  {
   "cell_type": "code",
   "execution_count": 14,
   "id": "d36f4407-8a00-494c-975e-ce66e57cd5c5",
   "metadata": {},
   "outputs": [
    {
     "data": {
      "text/html": [
       "<table border=\"1\" class=\"dataframe\">\n",
       "  <thead>\n",
       "    <tr style=\"text-align: right;\">\n",
       "      <th></th>\n",
       "      <th>label</th>\n",
       "      <th>text</th>\n",
       "      <th>input_ids</th>\n",
       "      <th>token_type_ids</th>\n",
       "      <th>attention_mask</th>\n",
       "    </tr>\n",
       "  </thead>\n",
       "  <tbody>\n",
       "    <tr>\n",
       "      <th>0</th>\n",
       "      <td>5 stars</td>\n",
       "      <td>Ok this place was soo fantastic. I ordered the appetizer Sicilian garlic cheese bread. It had the perfect amount of cheese and garlic. The bread wasn't hard either just right. For my main entree I went with chicken broccoli fettuccine Alfredo. I definitely made the right choice. It tasted delicious! To top it off they include dessert with dinner. :)</td>\n",
       "      <td>[101, 23330, 1142, 1282, 1108, 1177, 1186, 14820, 119, 146, 2802, 1103, 12647, 26883, 6198, 25150, 24861, 9553, 8162, 119, 1135, 1125, 1103, 3264, 2971, 1104, 9553, 1105, 24861, 119, 1109, 8162, 1445, 112, 189, 1662, 1719, 1198, 1268, 119, 1370, 1139, 1514, 4035, 14750, 146, 1355, 1114, 9323, 9304, 26108, 2646, 175, 5912, 15072, 1673, 21269, 119, 146, 5397, 1189, 1103, 1268, 3026, 119, 1135, 12876, 13108, 106, 1706, 1499, 1122, 1228, 1152, 1511, 20392, 1114, 4014, 119, 131, 114, 102, 0, 0, 0, 0, 0, 0, 0, 0, 0, 0, 0, 0, 0, 0, 0, 0, 0, 0, ...]</td>\n",
       "      <td>[0, 0, 0, 0, 0, 0, 0, 0, 0, 0, 0, 0, 0, 0, 0, 0, 0, 0, 0, 0, 0, 0, 0, 0, 0, 0, 0, 0, 0, 0, 0, 0, 0, 0, 0, 0, 0, 0, 0, 0, 0, 0, 0, 0, 0, 0, 0, 0, 0, 0, 0, 0, 0, 0, 0, 0, 0, 0, 0, 0, 0, 0, 0, 0, 0, 0, 0, 0, 0, 0, 0, 0, 0, 0, 0, 0, 0, 0, 0, 0, 0, 0, 0, 0, 0, 0, 0, 0, 0, 0, 0, 0, 0, 0, 0, 0, 0, 0, 0, 0, ...]</td>\n",
       "      <td>[1, 1, 1, 1, 1, 1, 1, 1, 1, 1, 1, 1, 1, 1, 1, 1, 1, 1, 1, 1, 1, 1, 1, 1, 1, 1, 1, 1, 1, 1, 1, 1, 1, 1, 1, 1, 1, 1, 1, 1, 1, 1, 1, 1, 1, 1, 1, 1, 1, 1, 1, 1, 1, 1, 1, 1, 1, 1, 1, 1, 1, 1, 1, 1, 1, 1, 1, 1, 1, 1, 1, 1, 1, 1, 1, 1, 1, 1, 1, 1, 1, 1, 0, 0, 0, 0, 0, 0, 0, 0, 0, 0, 0, 0, 0, 0, 0, 0, 0, 0, ...]</td>\n",
       "    </tr>\n",
       "  </tbody>\n",
       "</table>"
      ],
      "text/plain": [
       "<IPython.core.display.HTML object>"
      ]
     },
     "metadata": {},
     "output_type": "display_data"
    }
   ],
   "source": [
    "show_random_elements(tokenized_datasets[\"train\"], num_examples=1)"
   ]
  },
  {
   "cell_type": "code",
   "execution_count": 16,
   "id": "4263e06c-9d1c-4faf-b208-d1f9551ea162",
   "metadata": {},
   "outputs": [],
   "source": [
    "### 数据抽样\n",
    "small_train_dataset = tokenized_datasets[\"train\"].shuffle(seed=42).select(range(50000))\n",
    "small_eval_dataset = tokenized_datasets[\"test\"].shuffle(seed=42).select(range(50000))"
   ]
  },
  {
   "cell_type": "code",
   "execution_count": 17,
   "id": "8bbb062f-ddf8-4759-8774-206b8e5ca74e",
   "metadata": {},
   "outputs": [
    {
     "data": {
      "application/vnd.jupyter.widget-view+json": {
       "model_id": "751b11cc704b4a3592496bf5eb1cdfb9",
       "version_major": 2,
       "version_minor": 0
      },
      "text/plain": [
       "model.safetensors:   0%|          | 0.00/436M [00:00<?, ?B/s]"
      ]
     },
     "metadata": {},
     "output_type": "display_data"
    },
    {
     "name": "stderr",
     "output_type": "stream",
     "text": [
      "Some weights of BertForSequenceClassification were not initialized from the model checkpoint at bert-base-cased and are newly initialized: ['classifier.bias', 'classifier.weight']\n",
      "You should probably TRAIN this model on a down-stream task to be able to use it for predictions and inference.\n"
     ]
    }
   ],
   "source": [
    "##微调训练配置\n",
    "### 加载BERT模型\n",
    "from transformers import AutoModelForSequenceClassification\n",
    "model = AutoModelForSequenceClassification.from_pretrained(\"bert-base-cased\",num_labels=5)"
   ]
  },
  {
   "cell_type": "code",
   "execution_count": 18,
   "id": "b313c262-50db-414a-b15f-897c5a33403f",
   "metadata": {},
   "outputs": [],
   "source": [
    "### 训练超参数（TrainingArguments）\n",
    "from transformers import TrainingArguments\n",
    "\n",
    "model_dir = \"models/bert-base-cased-finetune-yelp\"\n",
    "\n",
    "# logging_steps 默认值为500，根据我们的训练数据和步长，将其设置为100\n",
    "training_args = TrainingArguments(output_dir=model_dir,\n",
    "                                  per_device_train_batch_size=16,\n",
    "                                  num_train_epochs=5,\n",
    "                                  logging_steps=100)"
   ]
  },
  {
   "cell_type": "code",
   "execution_count": 19,
   "id": "687b4d57-d135-4f98-a441-839b39f010c1",
   "metadata": {},
   "outputs": [
    {
     "name": "stdout",
     "output_type": "stream",
     "text": [
      "TrainingArguments(\n",
      "_n_gpu=1,\n",
      "accelerator_config={'split_batches': False, 'dispatch_batches': None, 'even_batches': True, 'use_seedable_sampler': True},\n",
      "adafactor=False,\n",
      "adam_beta1=0.9,\n",
      "adam_beta2=0.999,\n",
      "adam_epsilon=1e-08,\n",
      "auto_find_batch_size=False,\n",
      "bf16=False,\n",
      "bf16_full_eval=False,\n",
      "data_seed=None,\n",
      "dataloader_drop_last=False,\n",
      "dataloader_num_workers=0,\n",
      "dataloader_persistent_workers=False,\n",
      "dataloader_pin_memory=True,\n",
      "dataloader_prefetch_factor=None,\n",
      "ddp_backend=None,\n",
      "ddp_broadcast_buffers=None,\n",
      "ddp_bucket_cap_mb=None,\n",
      "ddp_find_unused_parameters=None,\n",
      "ddp_timeout=1800,\n",
      "debug=[],\n",
      "deepspeed=None,\n",
      "disable_tqdm=False,\n",
      "dispatch_batches=None,\n",
      "do_eval=False,\n",
      "do_predict=False,\n",
      "do_train=False,\n",
      "eval_accumulation_steps=None,\n",
      "eval_delay=0,\n",
      "eval_steps=None,\n",
      "evaluation_strategy=IntervalStrategy.NO,\n",
      "fp16=False,\n",
      "fp16_backend=auto,\n",
      "fp16_full_eval=False,\n",
      "fp16_opt_level=O1,\n",
      "fsdp=[],\n",
      "fsdp_config={'min_num_params': 0, 'xla': False, 'xla_fsdp_v2': False, 'xla_fsdp_grad_ckpt': False},\n",
      "fsdp_min_num_params=0,\n",
      "fsdp_transformer_layer_cls_to_wrap=None,\n",
      "full_determinism=False,\n",
      "gradient_accumulation_steps=1,\n",
      "gradient_checkpointing=False,\n",
      "gradient_checkpointing_kwargs=None,\n",
      "greater_is_better=None,\n",
      "group_by_length=False,\n",
      "half_precision_backend=auto,\n",
      "hub_always_push=False,\n",
      "hub_model_id=None,\n",
      "hub_private_repo=False,\n",
      "hub_strategy=HubStrategy.EVERY_SAVE,\n",
      "hub_token=<HUB_TOKEN>,\n",
      "ignore_data_skip=False,\n",
      "include_inputs_for_metrics=False,\n",
      "include_num_input_tokens_seen=False,\n",
      "include_tokens_per_second=False,\n",
      "jit_mode_eval=False,\n",
      "label_names=None,\n",
      "label_smoothing_factor=0.0,\n",
      "learning_rate=5e-05,\n",
      "length_column_name=length,\n",
      "load_best_model_at_end=False,\n",
      "local_rank=0,\n",
      "log_level=passive,\n",
      "log_level_replica=warning,\n",
      "log_on_each_node=True,\n",
      "logging_dir=models/bert-base-cased-finetune-yelp\\runs\\Mar09_16-53-47_liujingmao,\n",
      "logging_first_step=False,\n",
      "logging_nan_inf_filter=True,\n",
      "logging_steps=100,\n",
      "logging_strategy=IntervalStrategy.STEPS,\n",
      "lr_scheduler_kwargs={},\n",
      "lr_scheduler_type=SchedulerType.LINEAR,\n",
      "max_grad_norm=1.0,\n",
      "max_steps=-1,\n",
      "metric_for_best_model=None,\n",
      "mp_parameters=,\n",
      "neftune_noise_alpha=None,\n",
      "no_cuda=False,\n",
      "num_train_epochs=5,\n",
      "optim=OptimizerNames.ADAMW_TORCH,\n",
      "optim_args=None,\n",
      "output_dir=models/bert-base-cased-finetune-yelp,\n",
      "overwrite_output_dir=False,\n",
      "past_index=-1,\n",
      "per_device_eval_batch_size=8,\n",
      "per_device_train_batch_size=16,\n",
      "prediction_loss_only=False,\n",
      "push_to_hub=False,\n",
      "push_to_hub_model_id=None,\n",
      "push_to_hub_organization=None,\n",
      "push_to_hub_token=<PUSH_TO_HUB_TOKEN>,\n",
      "ray_scope=last,\n",
      "remove_unused_columns=True,\n",
      "report_to=[],\n",
      "resume_from_checkpoint=None,\n",
      "run_name=models/bert-base-cased-finetune-yelp,\n",
      "save_on_each_node=False,\n",
      "save_only_model=False,\n",
      "save_safetensors=True,\n",
      "save_steps=500,\n",
      "save_strategy=IntervalStrategy.STEPS,\n",
      "save_total_limit=None,\n",
      "seed=42,\n",
      "skip_memory_metrics=True,\n",
      "split_batches=None,\n",
      "tf32=None,\n",
      "torch_compile=False,\n",
      "torch_compile_backend=None,\n",
      "torch_compile_mode=None,\n",
      "torchdynamo=None,\n",
      "tpu_metrics_debug=False,\n",
      "tpu_num_cores=None,\n",
      "use_cpu=False,\n",
      "use_ipex=False,\n",
      "use_legacy_prediction_loop=False,\n",
      "use_mps_device=False,\n",
      "warmup_ratio=0.0,\n",
      "warmup_steps=0,\n",
      "weight_decay=0.0,\n",
      ")\n"
     ]
    }
   ],
   "source": [
    "## 打印完整的超参数\n",
    "print(training_args)"
   ]
  },
  {
   "cell_type": "code",
   "execution_count": 20,
   "id": "74c40b66-4869-4b58-abaf-9ea744cd1671",
   "metadata": {},
   "outputs": [
    {
     "data": {
      "application/vnd.jupyter.widget-view+json": {
       "model_id": "c982a775ee3f43e2b34f1be88a22a72c",
       "version_major": 2,
       "version_minor": 0
      },
      "text/plain": [
       "Downloading builder script:   0%|          | 0.00/4.20k [00:00<?, ?B/s]"
      ]
     },
     "metadata": {},
     "output_type": "display_data"
    }
   ],
   "source": [
    "## 训练过程中的指标评估（Evaluate)\n",
    "import numpy as np\n",
    "import evaluate\n",
    "\n",
    "metric = evaluate.load(\"accuracy\")"
   ]
  },
  {
   "cell_type": "raw",
   "id": "79f3ce51-7dda-4135-8a3a-a5a5bab9c1f5",
   "metadata": {},
   "source": [
    "接着，调用 compute 函数来计算预测的准确率。\n",
    "\n",
    "在将预测传递给 compute 函数之前，我们需要将 logits 转换为预测值（所有Transformers 模型都返回 logits）。"
   ]
  },
  {
   "cell_type": "code",
   "execution_count": 21,
   "id": "d8aa2a1d-15dd-4204-9f53-a5906e3cc81f",
   "metadata": {},
   "outputs": [],
   "source": [
    "def compute_metrics(eval_pred):\n",
    "    logits, labels = eval_pred\n",
    "    predictions = np.argmax(logits, axis=-1)\n",
    "    return metric.compute(predictions=predictions, references=labels)"
   ]
  },
  {
   "cell_type": "raw",
   "id": "910fc543-aedb-4e6e-b437-21ab577815f6",
   "metadata": {},
   "source": [
    "训练过程指标监控\n",
    "通常，为了监控训练过程中的评估指标变化，我们可以在TrainingArguments指定evaluation_strategy参数，以便在 epoch 结束时报告评估指标。"
   ]
  },
  {
   "cell_type": "code",
   "execution_count": 22,
   "id": "54cc977c-2cfc-4ecb-9072-54c9bbcba822",
   "metadata": {},
   "outputs": [],
   "source": [
    "from transformers import TrainingArguments, Trainer\n",
    "\n",
    "training_args = TrainingArguments(output_dir=model_dir,\n",
    "                                  evaluation_strategy=\"epoch\", \n",
    "                                  per_device_train_batch_size=16,\n",
    "                                  num_train_epochs=3,\n",
    "                                  logging_steps=30)"
   ]
  },
  {
   "cell_type": "raw",
   "id": "03739225-4243-4013-a370-8db65fe4bae1",
   "metadata": {},
   "source": [
    "开始训练\n",
    "实例化训练器（Trainer）"
   ]
  },
  {
   "cell_type": "code",
   "execution_count": 23,
   "id": "c3ef7ec4-76c3-40f4-8c3e-e4f8b5a5e2d3",
   "metadata": {},
   "outputs": [],
   "source": [
    "trainer = Trainer(\n",
    "    model=model,\n",
    "    args=training_args,\n",
    "    train_dataset=small_train_dataset,\n",
    "    eval_dataset=small_eval_dataset,\n",
    "    compute_metrics=compute_metrics,\n",
    ")"
   ]
  },
  {
   "cell_type": "code",
   "execution_count": 24,
   "id": "6e083d8a-4af7-4f1c-a97d-986f0bd7631e",
   "metadata": {},
   "outputs": [
    {
     "data": {
      "text/html": [
       "\n",
       "    <div>\n",
       "      \n",
       "      <progress value='9375' max='9375' style='width:300px; height:20px; vertical-align: middle;'></progress>\n",
       "      [9375/9375 1:18:21, Epoch 3/3]\n",
       "    </div>\n",
       "    <table border=\"1\" class=\"dataframe\">\n",
       "  <thead>\n",
       " <tr style=\"text-align: left;\">\n",
       "      <th>Epoch</th>\n",
       "      <th>Training Loss</th>\n",
       "      <th>Validation Loss</th>\n",
       "      <th>Accuracy</th>\n",
       "    </tr>\n",
       "  </thead>\n",
       "  <tbody>\n",
       "    <tr>\n",
       "      <td>1</td>\n",
       "      <td>0.846300</td>\n",
       "      <td>0.851991</td>\n",
       "      <td>0.631080</td>\n",
       "    </tr>\n",
       "    <tr>\n",
       "      <td>2</td>\n",
       "      <td>0.647700</td>\n",
       "      <td>0.856956</td>\n",
       "      <td>0.646060</td>\n",
       "    </tr>\n",
       "    <tr>\n",
       "      <td>3</td>\n",
       "      <td>0.397300</td>\n",
       "      <td>0.998499</td>\n",
       "      <td>0.647660</td>\n",
       "    </tr>\n",
       "  </tbody>\n",
       "</table><p>"
      ],
      "text/plain": [
       "<IPython.core.display.HTML object>"
      ]
     },
     "metadata": {},
     "output_type": "display_data"
    },
    {
     "data": {
      "text/plain": [
       "TrainOutput(global_step=9375, training_loss=0.6950175591023763, metrics={'train_runtime': 4702.9888, 'train_samples_per_second': 31.895, 'train_steps_per_second': 1.993, 'total_flos': 3.94677213696e+16, 'train_loss': 0.6950175591023763, 'epoch': 3.0})"
      ]
     },
     "execution_count": 24,
     "metadata": {},
     "output_type": "execute_result"
    }
   ],
   "source": [
    "trainer.train()"
   ]
  },
  {
   "cell_type": "code",
   "execution_count": 30,
   "id": "ddd7ad36-ffc0-407c-9a9b-0b9392c665c4",
   "metadata": {},
   "outputs": [],
   "source": [
    "small_test_dataset = tokenized_datasets[\"test\"].shuffle(seed=64).select(range(50000))"
   ]
  },
  {
   "cell_type": "code",
   "execution_count": 31,
   "id": "02a9a619-6586-469b-b745-1094903f5f9a",
   "metadata": {},
   "outputs": [
    {
     "data": {
      "text/plain": [
       "{'eval_loss': 0.9984992146492004,\n",
       " 'eval_accuracy': 0.64766,\n",
       " 'eval_runtime': 437.6935,\n",
       " 'eval_samples_per_second': 114.235,\n",
       " 'eval_steps_per_second': 14.279,\n",
       " 'epoch': 3.0}"
      ]
     },
     "execution_count": 31,
     "metadata": {},
     "output_type": "execute_result"
    }
   ],
   "source": [
    "trainer.evaluate(small_test_dataset)"
   ]
  },
  {
   "cell_type": "code",
   "execution_count": 27,
   "id": "bd479bdb-a95b-4bfd-bf44-c8a5c2284e0d",
   "metadata": {},
   "outputs": [],
   "source": [
    "trainer.save_model(model_dir)"
   ]
  },
  {
   "cell_type": "code",
   "execution_count": 28,
   "id": "6d6f7f56-7a94-4cfc-9ac4-d360a401b411",
   "metadata": {},
   "outputs": [],
   "source": [
    "trainer.save_state()"
   ]
  },
  {
   "cell_type": "code",
   "execution_count": 29,
   "id": "f1ac564d-03d0-4f0b-bd7d-8eb1b039d213",
   "metadata": {},
   "outputs": [],
   "source": [
    "trainer.model.save_pretrained(\"./\")"
   ]
  },
  {
   "cell_type": "code",
   "execution_count": null,
   "id": "33e4a9c1-0617-4c9b-9209-77a2b6e43db0",
   "metadata": {},
   "outputs": [],
   "source": []
  }
 ],
 "metadata": {
  "kernelspec": {
   "display_name": "Python 3 (ipykernel)",
   "language": "python",
   "name": "python3"
  },
  "language_info": {
   "codemirror_mode": {
    "name": "ipython",
    "version": 3
   },
   "file_extension": ".py",
   "mimetype": "text/x-python",
   "name": "python",
   "nbconvert_exporter": "python",
   "pygments_lexer": "ipython3",
   "version": "3.11.7"
  }
 },
 "nbformat": 4,
 "nbformat_minor": 5
}
